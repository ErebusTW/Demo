{
 "cells": [
  {
   "cell_type": "code",
   "execution_count": 1,
   "metadata": {},
   "outputs": [
    {
     "data": {
      "text/plain": [
       "1231.1312"
      ]
     },
     "execution_count": 1,
     "metadata": {},
     "output_type": "execute_result"
    }
   ],
   "source": [
    "abs(1231.1312)"
   ]
  },
  {
   "cell_type": "code",
   "execution_count": 6,
   "metadata": {},
   "outputs": [],
   "source": [
    "def my_abs(a):\n",
    "    \"\"\"自主研發版本的abs求絕對值函數\"\"\"#注釋內容，會出現在help裡\n",
    "    #正負數檢查\n",
    "    if a>0:\n",
    "        result = a\n",
    "    else:\n",
    "        result =-a\n",
    "\n",
    "    #返回結果\n",
    "    return result"
   ]
  },
  {
   "cell_type": "code",
   "execution_count": 7,
   "metadata": {},
   "outputs": [
    {
     "data": {
      "text/plain": [
       "100"
      ]
     },
     "execution_count": 7,
     "metadata": {},
     "output_type": "execute_result"
    }
   ],
   "source": [
    "my_abs(100)"
   ]
  },
  {
   "cell_type": "code",
   "execution_count": 8,
   "metadata": {},
   "outputs": [
    {
     "data": {
      "text/plain": [
       "100"
      ]
     },
     "execution_count": 8,
     "metadata": {},
     "output_type": "execute_result"
    }
   ],
   "source": [
    "my_abs(-100)"
   ]
  },
  {
   "cell_type": "code",
   "execution_count": 9,
   "metadata": {},
   "outputs": [
    {
     "name": "stdout",
     "output_type": "stream",
     "text": [
      "Help on function my_abs in module __main__:\n",
      "\n",
      "my_abs(a)\n",
      "    自主研發版本的abs求絕對值函數\n",
      "\n"
     ]
    }
   ],
   "source": [
    "help(my_abs)\n"
   ]
  },
  {
   "cell_type": "code",
   "execution_count": 10,
   "metadata": {},
   "outputs": [],
   "source": [
    "#多個參數\n",
    "def print_test(msg, *args, **kwargs):\n",
    "    \"\"\"測試多個參數的打印函數\"\"\"\n",
    "    print(msg)\n",
    "\n",
    "    print(type(args))\n",
    "    for arg in args:\n",
    "        print(arg)\n",
    "    \n",
    "    print(type(kwargs))\n",
    "    for k, v in kwargs.items():\n",
    "        print(k, \":\", v)"
   ]
  },
  {
   "cell_type": "code",
   "execution_count": 11,
   "metadata": {},
   "outputs": [
    {
     "name": "stdout",
     "output_type": "stream",
     "text": [
      "Hello World\n",
      "<class 'tuple'>\n",
      "<class 'dict'>\n"
     ]
    }
   ],
   "source": [
    "print_test(\"Hello World\")"
   ]
  },
  {
   "cell_type": "code",
   "execution_count": 12,
   "metadata": {},
   "outputs": [
    {
     "name": "stdout",
     "output_type": "stream",
     "text": [
      "測試打印函數\n",
      "<class 'tuple'>\n",
      "1\n",
      "2\n",
      "3\n",
      "4\n",
      "5\n",
      "<class 'dict'>\n",
      "ma : 30\n",
      "rsi : 20\n",
      "cci : 50\n"
     ]
    }
   ],
   "source": [
    "print_test(\"測試打印函數\", 1, 2, 3, 4, 5, ma=30, rsi=20, cci=50)"
   ]
  },
  {
   "cell_type": "code",
   "execution_count": 16,
   "metadata": {},
   "outputs": [],
   "source": [
    "def add_test(a,b,c):\n",
    "    \"\"\"\n",
    "    多行注釋方法\n",
    "    \n",
    "    返回a和b分別加上c後的數值\n",
    "    \"\"\"\n",
    "    \n",
    "    x = a + c\n",
    "    y = b + c\n",
    "    return x, y"
   ]
  },
  {
   "cell_type": "code",
   "execution_count": 18,
   "metadata": {},
   "outputs": [
    {
     "name": "stdout",
     "output_type": "stream",
     "text": [
      "4 5\n"
     ]
    }
   ],
   "source": [
    "m, n=add_test(1, 2, 3)\n",
    "print(m, n)"
   ]
  },
  {
   "cell_type": "code",
   "execution_count": 19,
   "metadata": {},
   "outputs": [
    {
     "name": "stdout",
     "output_type": "stream",
     "text": [
      "(4, 5)\n",
      "<class 'tuple'>\n"
     ]
    }
   ],
   "source": [
    "#元組拆包\n",
    "result = add_test(1, 2, 3)\n",
    "print(result)\n",
    "print(type(result))"
   ]
  },
  {
   "cell_type": "code",
   "execution_count": 20,
   "metadata": {},
   "outputs": [
    {
     "name": "stdout",
     "output_type": "stream",
     "text": [
      "4 5\n"
     ]
    }
   ],
   "source": [
    "p, q = result\n",
    "print(p, q)"
   ]
  },
  {
   "cell_type": "code",
   "execution_count": null,
   "metadata": {},
   "outputs": [],
   "source": []
  }
 ],
 "metadata": {
  "interpreter": {
   "hash": "0d2af4708e901420ca316528daed9d207adf237f59982b81f6b4928a0eab77f9"
  },
  "kernelspec": {
   "display_name": "Python 3.7.1 64-bit (system)",
   "language": "python",
   "name": "python3"
  },
  "language_info": {
   "codemirror_mode": {
    "name": "ipython",
    "version": 3
   },
   "file_extension": ".py",
   "mimetype": "text/x-python",
   "name": "python",
   "nbconvert_exporter": "python",
   "pygments_lexer": "ipython3",
   "version": "3.7.1"
  },
  "orig_nbformat": 4
 },
 "nbformat": 4,
 "nbformat_minor": 2
}
