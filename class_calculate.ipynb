{
 "cells": [
  {
   "cell_type": "code",
   "execution_count": 8,
   "metadata": {},
   "outputs": [],
   "source": [
    "class TradeData:\n",
    "    symbol = \"\"\n",
    "    datetime = \"\"\n",
    "    direction = \"\"\n",
    "    price = 0.0\n",
    "    volume = 0.0\n",
    "\n",
    "    def calculate_trading_value(self, size):\n",
    "        \"\"\"計算成交金額的對象方法\"\"\"\n",
    "        value = self.price * self.volume * size\n",
    "        return value"
   ]
  },
  {
   "cell_type": "code",
   "execution_count": 9,
   "metadata": {},
   "outputs": [],
   "source": [
    "trade=TradeData()\n",
    "#字段賦值\n",
    "trade.symbol = \"IF2010\"\n",
    "trade.datetime = \"20200915 13:15:03\"\n",
    "trade.direction =\"買入\"\n",
    "trade.price = 4200\n",
    "trade.volume = 1"
   ]
  },
  {
   "cell_type": "code",
   "execution_count": 10,
   "metadata": {},
   "outputs": [],
   "source": [
    "trade2=TradeData()\n",
    "#字段賦值\n",
    "trade2.symbol = \"IF2010\"\n",
    "trade2.datetime = \"20200915 13:15:03\"\n",
    "trade2.direction =\"買入\"\n",
    "trade2.price = 4200\n",
    "trade2.volume = 1"
   ]
  },
  {
   "cell_type": "code",
   "execution_count": 5,
   "metadata": {},
   "outputs": [
    {
     "name": "stdout",
     "output_type": "stream",
     "text": [
      "1260000\n"
     ]
    }
   ],
   "source": [
    "#直接計算\n",
    "trading_value = trade.price * trade.volume *300\n",
    "print(trading_value)"
   ]
  },
  {
   "cell_type": "code",
   "execution_count": 1,
   "metadata": {},
   "outputs": [],
   "source": [
    "#計算函數\n",
    "def calculate_trading_value(trade, size):\n",
    "    trading_value = trade.price * trade.volume *size\n",
    "    return trading_value"
   ]
  },
  {
   "cell_type": "code",
   "execution_count": 6,
   "metadata": {},
   "outputs": [
    {
     "name": "stdout",
     "output_type": "stream",
     "text": [
      "1260000\n"
     ]
    }
   ],
   "source": [
    "trading_value = calculate_trading_value(trade, 300)\n",
    "print(trading_value)"
   ]
  },
  {
   "cell_type": "code",
   "execution_count": 12,
   "metadata": {},
   "outputs": [
    {
     "name": "stdout",
     "output_type": "stream",
     "text": [
      "1260000\n"
     ]
    }
   ],
   "source": [
    "#對象方法\n",
    "print(trade2.calculate_trading_value(300))"
   ]
  },
  {
   "cell_type": "code",
   "execution_count": 13,
   "metadata": {},
   "outputs": [
    {
     "name": "stdout",
     "output_type": "stream",
     "text": [
      "Help on method calculate_trading_value in module __main__:\n",
      "\n",
      "calculate_trading_value(size) method of __main__.TradeData instance\n",
      "    計算成交金額的對象方法\n",
      "\n"
     ]
    }
   ],
   "source": [
    "help(trade2.calculate_trading_value)"
   ]
  },
  {
   "cell_type": "code",
   "execution_count": 14,
   "metadata": {},
   "outputs": [
    {
     "ename": "TypeError",
     "evalue": "calculate_trading_value() missing 1 required positional argument: 'size'",
     "output_type": "error",
     "traceback": [
      "\u001b[1;31m---------------------------------------------------------------------------\u001b[0m",
      "\u001b[1;31mTypeError\u001b[0m                                 Traceback (most recent call last)",
      "\u001b[1;32m<ipython-input-14-2e23b2f9a752>\u001b[0m in \u001b[0;36m<module>\u001b[1;34m\u001b[0m\n\u001b[0;32m      1\u001b[0m \u001b[1;31m#方法 vs 函數\u001b[0m\u001b[1;33m\u001b[0m\u001b[1;33m\u001b[0m\u001b[1;33m\u001b[0m\u001b[0m\n\u001b[1;32m----> 2\u001b[1;33m \u001b[0mTradeData\u001b[0m\u001b[1;33m.\u001b[0m\u001b[0mcalculate_trading_value\u001b[0m\u001b[1;33m(\u001b[0m\u001b[1;36m300\u001b[0m\u001b[1;33m)\u001b[0m\u001b[1;33m\u001b[0m\u001b[1;33m\u001b[0m\u001b[0m\n\u001b[0m",
      "\u001b[1;31mTypeError\u001b[0m: calculate_trading_value() missing 1 required positional argument: 'size'"
     ]
    }
   ],
   "source": [
    "#方法 vs 函數\n",
    "TradeData.calculate_trading_value(300)"
   ]
  },
  {
   "cell_type": "code",
   "execution_count": 15,
   "metadata": {},
   "outputs": [
    {
     "data": {
      "text/plain": [
       "1260000"
      ]
     },
     "execution_count": 15,
     "metadata": {},
     "output_type": "execute_result"
    }
   ],
   "source": [
    "TradeData.calculate_trading_value(trade2, 300)"
   ]
  },
  {
   "cell_type": "code",
   "execution_count": 23,
   "metadata": {},
   "outputs": [],
   "source": [
    "#成交信息打印\n",
    "class TradeData:\n",
    "    symbol = \"\"\n",
    "    datetime = \"\"\n",
    "    direction = \"\"\n",
    "    price = 0.0\n",
    "    volume = 0.0\n",
    "\n",
    "    def calculate_trading_value(self, size):\n",
    "        \"\"\"計算成交金額的對象方法\"\"\"\n",
    "        value = self.price * self.volume * size\n",
    "        return value\n",
    "    \n",
    "    def to_str(self):\n",
    "        \"\"\"\"\"\"\n",
    "        text =f\"{self.datetime}: {self.direction}{self.symbol} {self.volume}手@{self.price}\"\n",
    "        return text\n",
    "        "
   ]
  },
  {
   "cell_type": "code",
   "execution_count": 24,
   "metadata": {},
   "outputs": [
    {
     "name": "stdout",
     "output_type": "stream",
     "text": [
      "20200915 13:15:03: 買入IF2010 1手@4200\n"
     ]
    }
   ],
   "source": [
    "trade3=TradeData()\n",
    "#字段賦值\n",
    "trade3.symbol = \"IF2010\"\n",
    "trade3.datetime = \"20200915 13:15:03\"\n",
    "trade3.direction =\"買入\"\n",
    "trade3.price = 4200\n",
    "trade3.volume = 1\n",
    "\n",
    "print(trade3.to_str())"
   ]
  },
  {
   "cell_type": "code",
   "execution_count": 25,
   "metadata": {},
   "outputs": [],
   "source": [
    "#加上類型提示\n",
    "class TradeData:\n",
    "    symbol: str = \"\"\n",
    "    datetime: str = \"\"\n",
    "    direction: str = \"\"\n",
    "    price: float = 0.0\n",
    "    volume: float = 0.0\n",
    "\n",
    "    def calculate_trading_value(self, size: float) ->float:\n",
    "        \"\"\"計算成交金額的對象方法\"\"\"\n",
    "        value = self.price * self.volume * size\n",
    "        return value\n",
    "    \n",
    "    def to_str(self) -> str:\n",
    "        \"\"\"\"\"\"\n",
    "        text =f\"{self.datetime}: {self.direction}{self.symbol} {self.volume}手@{self.price}\"\n",
    "        return text\n",
    "        "
   ]
  },
  {
   "cell_type": "code",
   "execution_count": 42,
   "metadata": {},
   "outputs": [],
   "source": [
    "#構造函數\n",
    "class TradeData:\n",
    "    symbol: str = \"\"\n",
    "    datetime: str = \"\"\n",
    "    direction: str = \"\"\n",
    "    price: float = 0.0\n",
    "    volume: float = 0.0\n",
    "\n",
    "    def __init__(self, symbol: str, datetime: str, direction: str, price: float ,volume: float):\n",
    "        self.symbol = symbol\n",
    "        self.datetime = datetime\n",
    "        self.direction = direction\n",
    "        self.price = price\n",
    "        self.volume = volume\n",
    "\n",
    "    def calculate_trading_value(self, size: float) -> float:\n",
    "        \"\"\"計算成交金額的對象方法\"\"\"\n",
    "        value = self.price * self.volume * size\n",
    "        return value\n",
    "    \n",
    "    def to_str(self) -> str:\n",
    "        \"\"\"\"\"\"\n",
    "        text =f\"{self.datetime}: {self.direction}{self.symbol} {self.volume}手@{self.price}\"\n",
    "        return text\n",
    "        "
   ]
  },
  {
   "cell_type": "code",
   "execution_count": 45,
   "metadata": {},
   "outputs": [],
   "source": [
    "trade5=TradeData(\"IF2010\",\"20200915 13:44:13\", \"賣出\", 4300, 1)"
   ]
  },
  {
   "cell_type": "code",
   "execution_count": 48,
   "metadata": {},
   "outputs": [
    {
     "data": {
      "text/plain": [
       "'20200915 13:44:13: 賣出IF2010 1手@4300'"
      ]
     },
     "execution_count": 48,
     "metadata": {},
     "output_type": "execute_result"
    }
   ],
   "source": [
    "trade5.to_str()"
   ]
  }
 ],
 "metadata": {
  "interpreter": {
   "hash": "0d2af4708e901420ca316528daed9d207adf237f59982b81f6b4928a0eab77f9"
  },
  "kernelspec": {
   "display_name": "Python 3.7.1 64-bit (system)",
   "language": "python",
   "name": "python3"
  },
  "language_info": {
   "codemirror_mode": {
    "name": "ipython",
    "version": 3
   },
   "file_extension": ".py",
   "mimetype": "text/x-python",
   "name": "python",
   "nbconvert_exporter": "python",
   "pygments_lexer": "ipython3",
   "version": "3.7.1"
  },
  "orig_nbformat": 4
 },
 "nbformat": 4,
 "nbformat_minor": 2
}
