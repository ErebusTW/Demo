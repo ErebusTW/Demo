{
 "cells": [
  {
   "cell_type": "code",
   "execution_count": 1,
   "metadata": {},
   "outputs": [],
   "source": [
    "from datetime import date, time, datetime, timedelta"
   ]
  },
  {
   "cell_type": "code",
   "execution_count": 2,
   "metadata": {},
   "outputs": [
    {
     "name": "stdout",
     "output_type": "stream",
     "text": [
      "2022-03-05 14:34:42.785836 <class 'datetime.datetime'>\n"
     ]
    }
   ],
   "source": [
    "# 獲取當前時間\n",
    "current_dt = datetime.now()\n",
    "print(current_dt, type(current_dt))"
   ]
  },
  {
   "cell_type": "code",
   "execution_count": 3,
   "metadata": {},
   "outputs": [
    {
     "name": "stdout",
     "output_type": "stream",
     "text": [
      "2022-03-05 <class 'datetime.date'>\n"
     ]
    }
   ],
   "source": [
    "# 轉換為日期\n",
    "current_date = current_dt.date()\n",
    "print(current_date, type(current_date))"
   ]
  },
  {
   "cell_type": "code",
   "execution_count": 5,
   "metadata": {},
   "outputs": [
    {
     "name": "stdout",
     "output_type": "stream",
     "text": [
      "14:34:42.785836 <class 'datetime.time'>\n"
     ]
    }
   ],
   "source": [
    "# 轉換為時間\n",
    "current_time = current_dt.time()\n",
    "print(current_time, type(current_time))"
   ]
  },
  {
   "cell_type": "code",
   "execution_count": 6,
   "metadata": {},
   "outputs": [
    {
     "name": "stdout",
     "output_type": "stream",
     "text": [
      "執行正常交易操作\n"
     ]
    }
   ],
   "source": [
    "end_time = time(14, 55)\n",
    "if current_time >= end_time:\n",
    "    print(\"該執行平倉操作\")\n",
    "else:\n",
    "    print(\"執行正常交易操作\")"
   ]
  },
  {
   "cell_type": "code",
   "execution_count": 15,
   "metadata": {},
   "outputs": [
    {
     "name": "stdout",
     "output_type": "stream",
     "text": [
      "2022-10-28 00:00:00\n"
     ]
    }
   ],
   "source": [
    "# 創建自定義時間\n",
    "option_expiry = datetime(2022, 10, 28)\n",
    "print(option_expiry)"
   ]
  },
  {
   "cell_type": "code",
   "execution_count": 17,
   "metadata": {},
   "outputs": [
    {
     "name": "stdout",
     "output_type": "stream",
     "text": [
      "236 days, 9:25:17.214164 <class 'datetime.timedelta'>\n"
     ]
    }
   ],
   "source": [
    "# 求時間差值\n",
    "time_left = option_expiry - current_dt\n",
    "print(time_left, type(time_left))"
   ]
  },
  {
   "cell_type": "code",
   "execution_count": 20,
   "metadata": {},
   "outputs": [
    {
     "name": "stdout",
     "output_type": "stream",
     "text": [
      "剩餘天數 236\n",
      "剩餘秒數 20424317.214164\n"
     ]
    }
   ],
   "source": [
    "#檢查偏移量\n",
    "print(\"剩餘天數\", time_left.days)\n",
    "print(\"剩餘秒數\", time_left.total_seconds())\n"
   ]
  },
  {
   "cell_type": "code",
   "execution_count": 22,
   "metadata": {},
   "outputs": [
    {
     "name": "stdout",
     "output_type": "stream",
     "text": [
      "2022-03-05 14:46:24.448655\n",
      "2022-03-04 14:46:24.448655\n",
      "2022-03-06 14:46:24.448655\n"
     ]
    }
   ],
   "source": [
    "#計算相對日期\n",
    "today = datetime.now()\n",
    "yesterday = today - timedelta(days=1)\n",
    "tomorrow = today + timedelta(days=1)\n",
    "\n",
    "print(today)\n",
    "print(yesterday)\n",
    "print(tomorrow)"
   ]
  },
  {
   "cell_type": "code",
   "execution_count": 23,
   "metadata": {},
   "outputs": [
    {
     "data": {
      "text/plain": [
       "datetime.datetime"
      ]
     },
     "execution_count": 23,
     "metadata": {},
     "output_type": "execute_result"
    }
   ],
   "source": [
    "type(current_dt)"
   ]
  },
  {
   "cell_type": "code",
   "execution_count": 30,
   "metadata": {},
   "outputs": [
    {
     "data": {
      "text/plain": [
       "'2022-03-05 14:34:42.785836 TAIWAN TAIPEI TIME'"
      ]
     },
     "execution_count": 30,
     "metadata": {},
     "output_type": "execute_result"
    }
   ],
   "source": [
    "# datetime轉成字符串\n",
    "current_dt.strftime(\"%Y-%m-%d %H:%M:%S.%f TAIWAN TAIPEI TIME\")"
   ]
  },
  {
   "cell_type": "code",
   "execution_count": 35,
   "metadata": {},
   "outputs": [
    {
     "name": "stdout",
     "output_type": "stream",
     "text": [
      "2022-03-05 14:34:42 <class 'datetime.datetime'>\n"
     ]
    }
   ],
   "source": [
    "# 字符串轉datetime\n",
    "demo_str = \"2022/3/5 143442\"\n",
    "demo_dt = datetime.strptime(demo_str, \"%Y/%m/%d %H%M%S\")\n",
    "print(demo_dt, type(demo_dt))\n",
    "#時區\n",
    "#PYTZ包timezone方法.localize(\"Asian/Taipei\")"
   ]
  }
 ],
 "metadata": {
  "interpreter": {
   "hash": "0d2af4708e901420ca316528daed9d207adf237f59982b81f6b4928a0eab77f9"
  },
  "kernelspec": {
   "display_name": "Python 3.7.1 64-bit (system)",
   "language": "python",
   "name": "python3"
  },
  "language_info": {
   "codemirror_mode": {
    "name": "ipython",
    "version": 3
   },
   "file_extension": ".py",
   "mimetype": "text/x-python",
   "name": "python",
   "nbconvert_exporter": "python",
   "pygments_lexer": "ipython3",
   "version": "3.7.1"
  },
  "orig_nbformat": 4
 },
 "nbformat": 4,
 "nbformat_minor": 2
}
