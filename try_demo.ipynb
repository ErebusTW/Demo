{
 "cells": [
  {
   "cell_type": "code",
   "execution_count": 13,
   "metadata": {},
   "outputs": [],
   "source": [
    "def add(a, b):\n",
    "    return a + b"
   ]
  },
  {
   "cell_type": "code",
   "execution_count": 20,
   "metadata": {},
   "outputs": [],
   "source": [
    "def test():\n",
    "    n = 1\n",
    "    for i in [1, 2.0, -3, True, \"test\"]:\n",
    "        try:\n",
    "            m = add(i,n)\n",
    "            print(m)\n",
    "        except TypeError:\n",
    "            print(\"調用add函數出錯,錯誤數據\",i)\n",
    "        finally:\n",
    "            print(f\"{i}數據調用add計算結束\")\n",
    "        "
   ]
  },
  {
   "cell_type": "code",
   "execution_count": 21,
   "metadata": {},
   "outputs": [],
   "source": [
    "def main():\n",
    "    print(\"開始運行測試\")\n",
    "    test()\n",
    "    print(\"測試運行結束\")"
   ]
  },
  {
   "cell_type": "code",
   "execution_count": 22,
   "metadata": {},
   "outputs": [
    {
     "name": "stdout",
     "output_type": "stream",
     "text": [
      "開始運行測試\n",
      "2\n",
      "1數據調用add計算結束\n",
      "3.0\n",
      "2.0數據調用add計算結束\n",
      "-2\n",
      "-3數據調用add計算結束\n",
      "2\n",
      "True數據調用add計算結束\n",
      "調用add函數出錯,錯誤數據 test\n",
      "test數據調用add計算結束\n",
      "測試運行結束\n"
     ]
    }
   ],
   "source": [
    "main()#布林值可以在python轉為整數True=1,Flase=0"
   ]
  }
 ],
 "metadata": {
  "interpreter": {
   "hash": "0d2af4708e901420ca316528daed9d207adf237f59982b81f6b4928a0eab77f9"
  },
  "kernelspec": {
   "display_name": "Python 3.7.1 64-bit (system)",
   "language": "python",
   "name": "python3"
  },
  "language_info": {
   "codemirror_mode": {
    "name": "ipython",
    "version": 3
   },
   "file_extension": ".py",
   "mimetype": "text/x-python",
   "name": "python",
   "nbconvert_exporter": "python",
   "pygments_lexer": "ipython3",
   "version": "3.7.1"
  },
  "orig_nbformat": 4
 },
 "nbformat": 4,
 "nbformat_minor": 2
}
