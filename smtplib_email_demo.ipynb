{
 "cells": [
  {
   "cell_type": "code",
   "execution_count": 8,
   "metadata": {},
   "outputs": [],
   "source": [
    "import smtplib\n",
    "from email.message import EmailMessage\n",
    "from datetime import datetime"
   ]
  },
  {
   "cell_type": "code",
   "execution_count": 9,
   "metadata": {},
   "outputs": [],
   "source": [
    "msg = EmailMessage()\n",
    "msg[\"From\"] = \"zsp1174a@gamil.com\"\n",
    "msg[\"To\"] = \"zsp1174a@gmail.com\"\n",
    "msg[\"Subject\"] = \"測試郵件\"\n",
    "msg.set_content(f\"發送郵件時的本地時間為{datetime.now()}\")"
   ]
  },
  {
   "cell_type": "code",
   "execution_count": 10,
   "metadata": {},
   "outputs": [
    {
     "name": "stdout",
     "output_type": "stream",
     "text": [
      "From: zsp1174a@gamil.com\n",
      "To: zsp1174a@gmail.com\n",
      "Subject: 測試郵件\n",
      "Content-Type: text/plain; charset=\"utf-8\"\n",
      "Content-Transfer-Encoding: base64\n",
      "MIME-Version: 1.0\n",
      "\n",
      "55m86YCB6YO15Lu25pmC55qE5pys5Zyw5pmC6ZaT54K6MjAyMi0wMy0wNyAxOTozMzo0OS43Njkx\n",
      "MTMK\n",
      "\n"
     ]
    }
   ],
   "source": [
    "print(msg)"
   ]
  },
  {
   "cell_type": "code",
   "execution_count": 11,
   "metadata": {},
   "outputs": [],
   "source": [
    "with smtplib.SMTP_SSL(\"smtp.gmail.com\", 465) as smtp:\n",
    "    smtp.login(\"zsp1174a@gmail.com\", \"oqlexychfflfhvyx\")\n",
    "    smtp.send_message(msg)"
   ]
  }
 ],
 "metadata": {
  "interpreter": {
   "hash": "0d2af4708e901420ca316528daed9d207adf237f59982b81f6b4928a0eab77f9"
  },
  "kernelspec": {
   "display_name": "Python 3.7.1 64-bit (system)",
   "language": "python",
   "name": "python3"
  },
  "language_info": {
   "codemirror_mode": {
    "name": "ipython",
    "version": 3
   },
   "file_extension": ".py",
   "mimetype": "text/x-python",
   "name": "python",
   "nbconvert_exporter": "python",
   "pygments_lexer": "ipython3",
   "version": "3.7.1"
  },
  "orig_nbformat": 4
 },
 "nbformat": 4,
 "nbformat_minor": 2
}
