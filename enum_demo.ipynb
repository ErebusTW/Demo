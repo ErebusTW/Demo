{
 "cells": [
  {
   "cell_type": "code",
   "execution_count": 10,
   "metadata": {},
   "outputs": [],
   "source": [
    "from enum import Enum"
   ]
  },
  {
   "cell_type": "code",
   "execution_count": 11,
   "metadata": {},
   "outputs": [],
   "source": [
    "class Direaction(Enum):\n",
    "    LONG = \"多\"\n",
    "    SHORT = \"空\""
   ]
  },
  {
   "cell_type": "code",
   "execution_count": 12,
   "metadata": {},
   "outputs": [
    {
     "name": "stdout",
     "output_type": "stream",
     "text": [
      "Direaction.LONG\n"
     ]
    }
   ],
   "source": [
    "order_direaction = Direaction.LONG\n",
    "print(order_direaction)"
   ]
  },
  {
   "cell_type": "code",
   "execution_count": 13,
   "metadata": {},
   "outputs": [
    {
     "data": {
      "text/plain": [
       "<enum 'Direaction'>"
      ]
     },
     "execution_count": 13,
     "metadata": {},
     "output_type": "execute_result"
    }
   ],
   "source": [
    "type(order_direaction)"
   ]
  },
  {
   "cell_type": "code",
   "execution_count": 15,
   "metadata": {},
   "outputs": [],
   "source": [
    "# 定義枚舉值\n",
    "class Offset(Enum):\n",
    "    OPEN = \"開倉\"\n",
    "    CLOSE = \"平倉\"\n",
    "    CLOSE_TODAY = \"平今\"\n",
    "    CLOSE_YESTERDAY = \"平昨\"\n"
   ]
  },
  {
   "cell_type": "code",
   "execution_count": 16,
   "metadata": {},
   "outputs": [],
   "source": [
    "# 類型提示聲明\n",
    "def send_order(\n",
    "    vt_symbol: str,\n",
    "    price: float,\n",
    "    volume: int,\n",
    "    direction: Direaction,\n",
    "    offset: Offset\n",
    ") -> str:\n",
    "    pass\n"
   ]
  },
  {
   "cell_type": "code",
   "execution_count": 17,
   "metadata": {},
   "outputs": [],
   "source": [
    "class TradeData:\n",
    "    vt_symbol: str = \"\"\n",
    "    price: float = 0.0\n",
    "    volume: int = 0\n",
    "    direction: Direaction = None\n",
    "    offset: Offset = None"
   ]
  },
  {
   "cell_type": "code",
   "execution_count": 19,
   "metadata": {},
   "outputs": [
    {
     "name": "stdout",
     "output_type": "stream",
     "text": [
      "Direaction.LONG\n",
      "多\n"
     ]
    }
   ],
   "source": [
    "# 枚舉值轉原始數據\n",
    "direaction = Direaction.LONG\n",
    "print(direaction)\n",
    "direaction_value = direaction.value\n",
    "print(direaction_value)"
   ]
  },
  {
   "cell_type": "code",
   "execution_count": 20,
   "metadata": {},
   "outputs": [
    {
     "name": "stdout",
     "output_type": "stream",
     "text": [
      "Direaction.SHORT\n"
     ]
    }
   ],
   "source": [
    "# 底層數據轉枚舉值\n",
    "short_value = \"空\"\n",
    "short_direction = Direaction(short_value)\n",
    "print(short_direction)"
   ]
  },
  {
   "cell_type": "code",
   "execution_count": 21,
   "metadata": {},
   "outputs": [
    {
     "name": "stdout",
     "output_type": "stream",
     "text": [
      "Offset.OPEN 開倉\n",
      "Offset.CLOSE 平倉\n",
      "Offset.CLOSE_TODAY 平今\n",
      "Offset.CLOSE_YESTERDAY 平昨\n"
     ]
    }
   ],
   "source": [
    "# 遍歷打印\n",
    "for o in Offset:\n",
    "    print(o, o.value)"
   ]
  }
 ],
 "metadata": {
  "interpreter": {
   "hash": "0d2af4708e901420ca316528daed9d207adf237f59982b81f6b4928a0eab77f9"
  },
  "kernelspec": {
   "display_name": "Python 3.7.1 64-bit (system)",
   "language": "python",
   "name": "python3"
  },
  "language_info": {
   "codemirror_mode": {
    "name": "ipython",
    "version": 3
   },
   "file_extension": ".py",
   "mimetype": "text/x-python",
   "name": "python",
   "nbconvert_exporter": "python",
   "pygments_lexer": "ipython3",
   "version": "3.7.1"
  },
  "orig_nbformat": 4
 },
 "nbformat": 4,
 "nbformat_minor": 2
}
