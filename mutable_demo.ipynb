{
 "cells": [
  {
   "cell_type": "code",
   "execution_count": 1,
   "metadata": {},
   "outputs": [],
   "source": [
    "#定義緩存類\n",
    "class BarSeries:\n",
    "    open: list = [] #類成員共通會數據衝突，因為不同對象下的列表緩存地址一樣\n",
    "    high: list = []\n",
    "    low: list =[]\n",
    "    close: list =[]\n",
    "    \n",
    "    def update_bar(self, bar: dict):\n",
    "        \"\"\"更新k線\"\"\"\n",
    "        self.open.append(bar[\"open\"])\n",
    "        self.high.append(bar[\"high\"])\n",
    "        self.low.append(bar[\"low\"])\n",
    "        self.close.append(bar[\"close\"])\n",
    "\n",
    "    def print_date(self):\n",
    "        \"\"\"打印數據\"\"\"\n",
    "        print(\"開盤價序列\", self.open)\n",
    "        print(\"最高價序列\", self.high)\n",
    "        print(\"最低價序列\", self.low)\n",
    "        print(\"收盤價序列\", self.close)\n",
    "    "
   ]
  },
  {
   "cell_type": "code",
   "execution_count": 2,
   "metadata": {},
   "outputs": [],
   "source": [
    "#創建字典\n",
    "bar={\n",
    "    \"open\": 100,\n",
    "    \"high\": 102,\n",
    "    \"low\": 99,\n",
    "    \"close\": 101,\n",
    "}"
   ]
  },
  {
   "cell_type": "code",
   "execution_count": 3,
   "metadata": {},
   "outputs": [],
   "source": [
    "#創建緩存實例\n",
    "bs1 = BarSeries()"
   ]
  },
  {
   "cell_type": "code",
   "execution_count": 4,
   "metadata": {},
   "outputs": [],
   "source": [
    "#更新K線進去\n",
    "bs1.update_bar(bar)"
   ]
  },
  {
   "cell_type": "code",
   "execution_count": 5,
   "metadata": {},
   "outputs": [
    {
     "name": "stdout",
     "output_type": "stream",
     "text": [
      "開盤價序列 [100]\n",
      "最高價序列 [102]\n",
      "最低價序列 [99]\n",
      "收盤價序列 [101]\n"
     ]
    }
   ],
   "source": [
    "#打印緩存結果\n",
    "bs1.print_date()"
   ]
  },
  {
   "cell_type": "code",
   "execution_count": 6,
   "metadata": {},
   "outputs": [],
   "source": [
    "#創建緩存實例2\n",
    "bs2 = BarSeries()"
   ]
  },
  {
   "cell_type": "code",
   "execution_count": 7,
   "metadata": {},
   "outputs": [],
   "source": [
    "#更新K線進去\n",
    "bs2.update_bar(bar)"
   ]
  },
  {
   "cell_type": "code",
   "execution_count": 8,
   "metadata": {},
   "outputs": [
    {
     "name": "stdout",
     "output_type": "stream",
     "text": [
      "開盤價序列 [100, 100]\n",
      "最高價序列 [102, 102]\n",
      "最低價序列 [99, 99]\n",
      "收盤價序列 [101, 101]\n"
     ]
    }
   ],
   "source": [
    "#打印緩存結果\n",
    "#數據衝突\n",
    "bs2.print_date()"
   ]
  },
  {
   "cell_type": "code",
   "execution_count": 9,
   "metadata": {},
   "outputs": [
    {
     "data": {
      "text/plain": [
       "2539250623880"
      ]
     },
     "execution_count": 9,
     "metadata": {},
     "output_type": "execute_result"
    }
   ],
   "source": [
    "#檢查對象內存地址\n",
    "id(bs1)"
   ]
  },
  {
   "cell_type": "code",
   "execution_count": 10,
   "metadata": {},
   "outputs": [
    {
     "data": {
      "text/plain": [
       "2539243918672"
      ]
     },
     "execution_count": 10,
     "metadata": {},
     "output_type": "execute_result"
    }
   ],
   "source": [
    "id(bs2)"
   ]
  },
  {
   "cell_type": "code",
   "execution_count": 13,
   "metadata": {},
   "outputs": [
    {
     "data": {
      "text/plain": [
       "2539237901960"
      ]
     },
     "execution_count": 13,
     "metadata": {},
     "output_type": "execute_result"
    }
   ],
   "source": [
    "id(bs1.open)"
   ]
  },
  {
   "cell_type": "code",
   "execution_count": 14,
   "metadata": {},
   "outputs": [
    {
     "data": {
      "text/plain": [
       "2539237901960"
      ]
     },
     "execution_count": 14,
     "metadata": {},
     "output_type": "execute_result"
    }
   ],
   "source": [
    "id(bs2.open)"
   ]
  },
  {
   "cell_type": "code",
   "execution_count": 15,
   "metadata": {},
   "outputs": [],
   "source": [
    "#定義新緩存類\n",
    "class BarSeries:\n",
    "    \n",
    "    def __init__(self):\n",
    "        self.open: list = [] #類成員共通會數據衝突，因為不同對象下的列表緩存地址一樣\n",
    "        self.high: list = []\n",
    "        self.low: list =[]\n",
    "        self.close: list =[]\n",
    "    \n",
    "    def update_bar(self, bar: dict):\n",
    "        \"\"\"更新k線\"\"\"\n",
    "        self.open.append(bar[\"open\"])\n",
    "        self.high.append(bar[\"high\"])\n",
    "        self.low.append(bar[\"low\"])\n",
    "        self.close.append(bar[\"close\"])\n",
    "\n",
    "    def print_date(self):\n",
    "        \"\"\"打印數據\"\"\"\n",
    "        print(\"開盤價序列\", self.open)\n",
    "        print(\"最高價序列\", self.high)\n",
    "        print(\"最低價序列\", self.low)\n",
    "        print(\"收盤價序列\", self.close)\n",
    "    "
   ]
  },
  {
   "cell_type": "code",
   "execution_count": 16,
   "metadata": {},
   "outputs": [
    {
     "name": "stdout",
     "output_type": "stream",
     "text": [
      "開盤價序列 [100]\n",
      "最高價序列 [102]\n",
      "最低價序列 [99]\n",
      "收盤價序列 [101]\n"
     ]
    }
   ],
   "source": [
    "#創建緩存實例\n",
    "nbs1 = BarSeries()\n",
    "nbs1.update_bar(bar)\n",
    "nbs1.print_date()"
   ]
  },
  {
   "cell_type": "code",
   "execution_count": 17,
   "metadata": {},
   "outputs": [
    {
     "name": "stdout",
     "output_type": "stream",
     "text": [
      "開盤價序列 [100]\n",
      "最高價序列 [102]\n",
      "最低價序列 [99]\n",
      "收盤價序列 [101]\n"
     ]
    }
   ],
   "source": [
    "#創建緩存實例\n",
    "nbs2 = BarSeries()\n",
    "nbs2.update_bar(bar)\n",
    "nbs2.print_date()"
   ]
  },
  {
   "cell_type": "code",
   "execution_count": 19,
   "metadata": {},
   "outputs": [
    {
     "data": {
      "text/plain": [
       "2539250809288"
      ]
     },
     "execution_count": 19,
     "metadata": {},
     "output_type": "execute_result"
    }
   ],
   "source": [
    "id(nbs1.close)"
   ]
  },
  {
   "cell_type": "code",
   "execution_count": 18,
   "metadata": {},
   "outputs": [
    {
     "data": {
      "text/plain": [
       "2539250807048"
      ]
     },
     "execution_count": 18,
     "metadata": {},
     "output_type": "execute_result"
    }
   ],
   "source": [
    "id(nbs2.close)"
   ]
  },
  {
   "cell_type": "code",
   "execution_count": 24,
   "metadata": {},
   "outputs": [],
   "source": [
    "a = 9999"
   ]
  },
  {
   "cell_type": "code",
   "execution_count": 25,
   "metadata": {},
   "outputs": [],
   "source": [
    "b = a"
   ]
  },
  {
   "cell_type": "code",
   "execution_count": 26,
   "metadata": {},
   "outputs": [],
   "source": [
    "b = b + 100"
   ]
  },
  {
   "cell_type": "code",
   "execution_count": 27,
   "metadata": {},
   "outputs": [
    {
     "name": "stdout",
     "output_type": "stream",
     "text": [
      "9999 10099\n"
     ]
    }
   ],
   "source": [
    "print(a,b)"
   ]
  },
  {
   "cell_type": "code",
   "execution_count": 28,
   "metadata": {},
   "outputs": [],
   "source": [
    "c = []"
   ]
  },
  {
   "cell_type": "code",
   "execution_count": 29,
   "metadata": {},
   "outputs": [],
   "source": [
    "d = c"
   ]
  },
  {
   "cell_type": "code",
   "execution_count": 30,
   "metadata": {},
   "outputs": [],
   "source": [
    "d.append(123)"
   ]
  },
  {
   "cell_type": "code",
   "execution_count": 31,
   "metadata": {},
   "outputs": [
    {
     "name": "stdout",
     "output_type": "stream",
     "text": [
      "[123] [123]\n"
     ]
    }
   ],
   "source": [
    "print(c,d)"
   ]
  },
  {
   "cell_type": "code",
   "execution_count": null,
   "metadata": {},
   "outputs": [],
   "source": [
    "#不可變int,float,bool,str\n",
    "#可變list,dict,set"
   ]
  }
 ],
 "metadata": {
  "interpreter": {
   "hash": "0d2af4708e901420ca316528daed9d207adf237f59982b81f6b4928a0eab77f9"
  },
  "kernelspec": {
   "display_name": "Python 3.7.1 64-bit (system)",
   "language": "python",
   "name": "python3"
  },
  "language_info": {
   "codemirror_mode": {
    "name": "ipython",
    "version": 3
   },
   "file_extension": ".py",
   "mimetype": "text/x-python",
   "name": "python",
   "nbconvert_exporter": "python",
   "pygments_lexer": "ipython3",
   "version": "3.7.1"
  },
  "orig_nbformat": 4
 },
 "nbformat": 4,
 "nbformat_minor": 2
}
