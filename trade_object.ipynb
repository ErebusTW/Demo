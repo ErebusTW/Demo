{
 "cells": [
  {
   "cell_type": "code",
   "execution_count": 4,
   "metadata": {},
   "outputs": [],
   "source": [
    "class TradeData:\n",
    "    symbol: str = \"\"\n",
    "    datetime: str = \"\"\n",
    "    direction: str = \"\"\n",
    "    price: float = 0.0\n",
    "    volume: float = 0.0\n",
    "    size: int = 0\n",
    "    \n",
    "    def __init__(self, symbol: str, datetime: str, direction: str, price: float ,volume: float,size: int):\n",
    "        self.symbol = symbol\n",
    "        self.datetime = datetime\n",
    "        self.direction = direction\n",
    "        self.price = price\n",
    "        self.volume = volume\n",
    "        self.size = size\n",
    "\n",
    "    def calculate_trading_value(self, size: float) -> float:\n",
    "        \"\"\"計算成交金額的對象方法\"\"\"\n",
    "        value = self.price * self.volume * size\n",
    "        return value\n",
    "    \n",
    "    def to_str(self) -> str:\n",
    "        \"\"\"\"\"\"\n",
    "        text =f\"{self.datetime}: {self.direction} {self.symbol} {self.volume}手@{self.price}\"\n",
    "        return text\n",
    "        "
   ]
  },
  {
   "cell_type": "code",
   "execution_count": 13,
   "metadata": {},
   "outputs": [],
   "source": [
    "class StockTradeData(TradeData):\n",
    "\n",
    "    def calculate_cash_change(self):\n",
    "        \"\"\"計算股票成交現金變化\"\"\"\n",
    "        value = self.price * self.volume *self.size\n",
    "        return value    "
   ]
  },
  {
   "cell_type": "code",
   "execution_count": 9,
   "metadata": {},
   "outputs": [
    {
     "name": "stdout",
     "output_type": "stream",
     "text": [
      "20200916 9:30:05: 買入 60036 100手@40\n"
     ]
    }
   ],
   "source": [
    "stock_trade = StockTradeData(\"60036\", \"20200916 9:30:05\", \"買入\", 40, 100, 1)\n",
    "print(stock_trade.to_str())"
   ]
  },
  {
   "cell_type": "code",
   "execution_count": 10,
   "metadata": {},
   "outputs": [
    {
     "name": "stdout",
     "output_type": "stream",
     "text": [
      "股票成交的現金變化 4000\n"
     ]
    }
   ],
   "source": [
    "#擴展子類方法\n",
    "print(\"股票成交的現金變化\", stock_trade.calculate_cash_change())"
   ]
  },
  {
   "cell_type": "code",
   "execution_count": 12,
   "metadata": {},
   "outputs": [],
   "source": [
    "class FutureTradeData(TradeData):\n",
    "    \n",
    "    margin_rate = 0.0\n",
    "\n",
    "    def __init__(self, symbol: str, datetime: str, direction: str, price: float ,volume: float,size: int ,margin_rate: float):\n",
    "        super().__init__(symbol, datetime, direction, price, volume, size)\n",
    "        self.margin_rate = margin_rate\n",
    "\n",
    "    def calculate_cash_change(self):\n",
    "        \"\"\"計算期貨成交現金變化\"\"\"\n",
    "        value = self.price * self.volume *self.size *self.margin_rate\n",
    "        return value    "
   ]
  },
  {
   "cell_type": "code",
   "execution_count": 15,
   "metadata": {},
   "outputs": [
    {
     "name": "stdout",
     "output_type": "stream",
     "text": [
      "期貨成交的現金變化為 360000.0\n"
     ]
    }
   ],
   "source": [
    "#擴展子類數據\n",
    "future_trade = FutureTradeData(\"IF2010\", \"20200916 9:31:05\", \"買入\", 4000, 1, 300,0.3)\n",
    "print(\"期貨成交的現金變化為\",future_trade.calculate_cash_change())"
   ]
  },
  {
   "cell_type": "code",
   "execution_count": 16,
   "metadata": {},
   "outputs": [
    {
     "data": {
      "text/plain": [
       "True"
      ]
     },
     "execution_count": 16,
     "metadata": {},
     "output_type": "execute_result"
    }
   ],
   "source": [
    "#檢查類型\n",
    "trade = TradeData(\"EURUSD\", \"20220303 18:51:13\", \"賣出\", 1.3 ,10000, 300)\n",
    "isinstance(trade, TradeData)"
   ]
  },
  {
   "cell_type": "code",
   "execution_count": 17,
   "metadata": {},
   "outputs": [
    {
     "data": {
      "text/plain": [
       "False"
      ]
     },
     "execution_count": 17,
     "metadata": {},
     "output_type": "execute_result"
    }
   ],
   "source": [
    "isinstance(trade, StockTradeData)"
   ]
  },
  {
   "cell_type": "code",
   "execution_count": 18,
   "metadata": {},
   "outputs": [
    {
     "data": {
      "text/plain": [
       "True"
      ]
     },
     "execution_count": 18,
     "metadata": {},
     "output_type": "execute_result"
    }
   ],
   "source": [
    "isinstance(future_trade,FutureTradeData)"
   ]
  },
  {
   "cell_type": "code",
   "execution_count": 19,
   "metadata": {},
   "outputs": [
    {
     "data": {
      "text/plain": [
       "True"
      ]
     },
     "execution_count": 19,
     "metadata": {},
     "output_type": "execute_result"
    }
   ],
   "source": [
    "isinstance(future_trade, TradeData)#子類可以視為父類父類不能視為子類"
   ]
  },
  {
   "cell_type": "code",
   "execution_count": 20,
   "metadata": {},
   "outputs": [
    {
     "data": {
      "text/plain": [
       "False"
      ]
     },
     "execution_count": 20,
     "metadata": {},
     "output_type": "execute_result"
    }
   ],
   "source": [
    "isinstance(future_trade, StockTradeData)#子類彼此獨立"
   ]
  }
 ],
 "metadata": {
  "interpreter": {
   "hash": "0d2af4708e901420ca316528daed9d207adf237f59982b81f6b4928a0eab77f9"
  },
  "kernelspec": {
   "display_name": "Python 3.7.1 64-bit (system)",
   "language": "python",
   "name": "python3"
  },
  "language_info": {
   "codemirror_mode": {
    "name": "ipython",
    "version": 3
   },
   "file_extension": ".py",
   "mimetype": "text/x-python",
   "name": "python",
   "nbconvert_exporter": "python",
   "pygments_lexer": "ipython3",
   "version": "3.7.1"
  },
  "orig_nbformat": 4
 },
 "nbformat": 4,
 "nbformat_minor": 2
}
