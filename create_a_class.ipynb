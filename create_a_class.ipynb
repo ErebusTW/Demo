{
 "cells": [
  {
   "cell_type": "code",
   "execution_count": 1,
   "metadata": {},
   "outputs": [],
   "source": [
    "class TradeData:\n",
    "    symbol = \"\"\n",
    "    datetime = \"\"\n",
    "    direction = \"\"\n",
    "    price = 0.0\n",
    "    volume = 0.0"
   ]
  },
  {
   "cell_type": "code",
   "execution_count": 2,
   "metadata": {},
   "outputs": [
    {
     "data": {
      "text/plain": [
       "__main__.TradeData"
      ]
     },
     "execution_count": 2,
     "metadata": {},
     "output_type": "execute_result"
    }
   ],
   "source": [
    "TradeData"
   ]
  },
  {
   "cell_type": "code",
   "execution_count": 3,
   "metadata": {},
   "outputs": [],
   "source": [
    "#創建對象\n",
    "trade = TradeData()"
   ]
  },
  {
   "cell_type": "code",
   "execution_count": 9,
   "metadata": {},
   "outputs": [],
   "source": [
    "#字段賦值\n",
    "trade.symbol = \"IF2010\"\n",
    "trade.datetime = \"20200915 13:15:03\"\n",
    "trade.direction =\"買入\"\n",
    "trade.price = 4200\n",
    "trade.volume = 1"
   ]
  },
  {
   "cell_type": "code",
   "execution_count": 10,
   "metadata": {},
   "outputs": [
    {
     "name": "stdout",
     "output_type": "stream",
     "text": [
      "<class '__main__.TradeData'>\n"
     ]
    }
   ],
   "source": [
    "#查看類型\n",
    "print(type(trade))"
   ]
  },
  {
   "cell_type": "code",
   "execution_count": 14,
   "metadata": {},
   "outputs": [
    {
     "name": "stdout",
     "output_type": "stream",
     "text": [
      "1260000\n"
     ]
    }
   ],
   "source": [
    "#訪問數據\n",
    "trading_value = trade.price * trade.volume * 300\n",
    "print(trading_value)"
   ]
  },
  {
   "cell_type": "code",
   "execution_count": 16,
   "metadata": {},
   "outputs": [
    {
     "name": "stdout",
     "output_type": "stream",
     "text": [
      "1260000\n"
     ]
    }
   ],
   "source": [
    "#字典概念類比\n",
    "td ={\n",
    "    \"symbol\" : \"IF2010\",\n",
    "    \"datetime\" : \"20200915 13:15:030\",\n",
    "    \"direction\" : \"買入\",\n",
    "    \"price\" : 4200,\n",
    "    \"volume\" : 1,\n",
    "}\n",
    "td_value = td[\"price\"] * td[\"volume\"] * 300\n",
    "print(td_value)"
   ]
  },
  {
   "cell_type": "code",
   "execution_count": 17,
   "metadata": {},
   "outputs": [
    {
     "data": {
      "text/plain": [
       "{'symbol': 'IF2010',\n",
       " 'datetime': '20200915 13:15:03',\n",
       " 'direction': '買入',\n",
       " 'price': 4200,\n",
       " 'volume': 1}"
      ]
     },
     "execution_count": 17,
     "metadata": {},
     "output_type": "execute_result"
    }
   ],
   "source": [
    "trade.__dict__"
   ]
  },
  {
   "cell_type": "code",
   "execution_count": 18,
   "metadata": {},
   "outputs": [
    {
     "data": {
      "text/plain": [
       "{'symbol': 'IF2010',\n",
       " 'datetime': '20200915 13:15:030',\n",
       " 'direction': '買入',\n",
       " 'price': 4200,\n",
       " 'volume': 1}"
      ]
     },
     "execution_count": 18,
     "metadata": {},
     "output_type": "execute_result"
    }
   ],
   "source": [
    "td"
   ]
  }
 ],
 "metadata": {
  "interpreter": {
   "hash": "0d2af4708e901420ca316528daed9d207adf237f59982b81f6b4928a0eab77f9"
  },
  "kernelspec": {
   "display_name": "Python 3.7.1 64-bit (system)",
   "language": "python",
   "name": "python3"
  },
  "language_info": {
   "codemirror_mode": {
    "name": "ipython",
    "version": 3
   },
   "file_extension": ".py",
   "mimetype": "text/x-python",
   "name": "python",
   "nbconvert_exporter": "python",
   "pygments_lexer": "ipython3",
   "version": "3.7.1"
  },
  "orig_nbformat": 4
 },
 "nbformat": 4,
 "nbformat_minor": 2
}
