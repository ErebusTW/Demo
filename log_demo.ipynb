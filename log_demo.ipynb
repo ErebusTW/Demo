{
 "cells": [
  {
   "cell_type": "code",
   "execution_count": 1,
   "metadata": {},
   "outputs": [],
   "source": [
    "import logging"
   ]
  },
  {
   "cell_type": "code",
   "execution_count": 2,
   "metadata": {},
   "outputs": [
    {
     "name": "stderr",
     "output_type": "stream",
     "text": [
      "CRITICAL:root:測試訊息\n"
     ]
    }
   ],
   "source": [
    "logging.critical(\"測試訊息\")"
   ]
  },
  {
   "cell_type": "code",
   "execution_count": 3,
   "metadata": {},
   "outputs": [
    {
     "name": "stdout",
     "output_type": "stream",
     "text": [
      "打印信息\n"
     ]
    }
   ],
   "source": [
    "print(\"打印信息\")"
   ]
  },
  {
   "cell_type": "code",
   "execution_count": 2,
   "metadata": {},
   "outputs": [],
   "source": [
    "# 準備日誌紀錄工具\n",
    "logger = logging.getLogger(\"test\")\n",
    "logger.setLevel(logging.DEBUG)"
   ]
  },
  {
   "cell_type": "code",
   "execution_count": 3,
   "metadata": {},
   "outputs": [
    {
     "name": "stdout",
     "output_type": "stream",
     "text": [
      "DEBUG 10\n",
      "INFO 20\n",
      "WARNING 30\n",
      "ERROR 40\n",
      "CRITICAL 50\n"
     ]
    }
   ],
   "source": [
    "# 日誌級別對應的整數\n",
    "print(\"DEBUG\", logging.DEBUG)\n",
    "print(\"INFO\", logging.INFO)\n",
    "print(\"WARNING\", logging.WARNING)\n",
    "print(\"ERROR\", logging.ERROR)\n",
    "print(\"CRITICAL\", logging.CRITICAL)"
   ]
  },
  {
   "cell_type": "code",
   "execution_count": 4,
   "metadata": {},
   "outputs": [],
   "source": [
    "# 設置格式器\n",
    "formatter = logging.Formatter(\"%(asctime)s  [%(levelname)s]   %(message)s\")"
   ]
  },
  {
   "cell_type": "code",
   "execution_count": 5,
   "metadata": {},
   "outputs": [],
   "source": [
    "# 創建終端輸出\n",
    "stream_handler = logging.StreamHandler()\n",
    "stream_handler.setLevel(logging.DEBUG)\n",
    "stream_handler.setFormatter(formatter)\n",
    "\n",
    "logger.addHandler(stream_handler)"
   ]
  },
  {
   "cell_type": "code",
   "execution_count": 6,
   "metadata": {},
   "outputs": [
    {
     "name": "stderr",
     "output_type": "stream",
     "text": [
      "2022-03-07 20:55:17,476  [DEBUG]   測試DEBUG級別日志\n"
     ]
    }
   ],
   "source": [
    "logger.debug(\"測試DEBUG級別日志\")"
   ]
  },
  {
   "cell_type": "code",
   "execution_count": 8,
   "metadata": {},
   "outputs": [],
   "source": [
    "# 創建文件輸出\n",
    "file_handler = logging.FileHandler(\"test.log\", mode = \"a\", encoding=\"utf8\")\n",
    "file_handler.setLevel(logging.INFO)\n",
    "file_handler.setFormatter(formatter)\n",
    "logger.addHandler(file_handler)"
   ]
  },
  {
   "cell_type": "code",
   "execution_count": 9,
   "metadata": {},
   "outputs": [
    {
     "name": "stderr",
     "output_type": "stream",
     "text": [
      "2022-03-07 20:59:12,903  [DEBUG]   測試DEBUG級別日志\n",
      "2022-03-07 20:59:12,906  [INFO]   測試INFO級別日志\n",
      "2022-03-07 20:59:12,909  [WARNING]   測試WARNING級別日志\n",
      "2022-03-07 20:59:12,910  [ERROR]   測試ERROR級別日志\n",
      "2022-03-07 20:59:12,911  [CRITICAL]   測試CRITICAL級別日志\n"
     ]
    }
   ],
   "source": [
    "logger.debug(\"測試DEBUG級別日志\")\n",
    "logger.info(\"測試INFO級別日志\")\n",
    "logger.warning(\"測試WARNING級別日志\")\n",
    "logger.error(\"測試ERROR級別日志\")\n",
    "logger.critical(\"測試CRITICAL級別日志\")"
   ]
  },
  {
   "cell_type": "code",
   "execution_count": 10,
   "metadata": {},
   "outputs": [
    {
     "name": "stderr",
     "output_type": "stream",
     "text": [
      "2022-03-07 21:00:04,228  [INFO]   log函數測試\n"
     ]
    }
   ],
   "source": [
    "logger.log(logging.INFO, \"log函數測試\")"
   ]
  }
 ],
 "metadata": {
  "interpreter": {
   "hash": "0d2af4708e901420ca316528daed9d207adf237f59982b81f6b4928a0eab77f9"
  },
  "kernelspec": {
   "display_name": "Python 3.7.1 64-bit (system)",
   "language": "python",
   "name": "python3"
  },
  "language_info": {
   "codemirror_mode": {
    "name": "ipython",
    "version": 3
   },
   "file_extension": ".py",
   "mimetype": "text/x-python",
   "name": "python",
   "nbconvert_exporter": "python",
   "pygments_lexer": "ipython3",
   "version": "3.7.1"
  },
  "orig_nbformat": 4
 },
 "nbformat": 4,
 "nbformat_minor": 2
}
