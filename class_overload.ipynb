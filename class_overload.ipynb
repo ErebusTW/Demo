{
 "cells": [
  {
   "cell_type": "code",
   "execution_count": 41,
   "metadata": {},
   "outputs": [],
   "source": [
    "class TradeData:\n",
    "    symbol: str = \"\"\n",
    "    datetime: str = \"\"\n",
    "    direction: str = \"\"\n",
    "    price: float = 0.0\n",
    "    volume: float = 0.0\n",
    "    size: int = 0\n",
    "    \n",
    "    def __init__(self, symbol: str, datetime: str, direction: str, price: float ,volume: float,size: int):\n",
    "        self.symbol = symbol\n",
    "        self.datetime = datetime\n",
    "        self.direction = direction\n",
    "        self.price = price\n",
    "        self.volume = volume\n",
    "        self.size = size\n",
    "\n",
    "    def calculate_trading_value(self, size: float) -> float:\n",
    "        \"\"\"計算成交金額的對象方法\"\"\"\n",
    "        value = self.price * self.volume * size\n",
    "        return value\n",
    "    \n",
    "    def to_str(self) -> str:\n",
    "        \"\"\"\"\"\"\n",
    "        text =f\"{self.datetime}: {self.direction} {self.symbol} {self.volume}手@{self.price}\"\n",
    "        return text\n",
    "    \n",
    "    def write_trade_log(self,strategy_name: str) -> None:\n",
    "        \"\"\"\"\"\"\n",
    "        print(f\"{strategy_name}成交數據\",self.to_str())\n",
    "\n",
    "        "
   ]
  },
  {
   "cell_type": "code",
   "execution_count": 42,
   "metadata": {},
   "outputs": [],
   "source": [
    "class StockTradeData(TradeData):\n",
    "\n",
    "    def calculate_cash_change(self):\n",
    "        \"\"\"計算股票成交現金變化\"\"\"\n",
    "        value = self.price * self.volume *self.size\n",
    "        return value    \n",
    "    \n",
    "    def write_trade_log(self,strategy_name: str) -> None:\n",
    "        \"\"\"\"\"\"\n",
    "        print(f\"{strategy_name}股票成交數據\",self.to_str())\n"
   ]
  },
  {
   "cell_type": "code",
   "execution_count": 40,
   "metadata": {},
   "outputs": [],
   "source": [
    "class FutureTradeData(TradeData):\n",
    "    \n",
    "    margin_rate = 0.0\n",
    "\n",
    "    def __init__(self, symbol: str, datetime: str, direction: str, price: float ,volume: float,size: int ,margin_rate: float):\n",
    "        super().__init__(symbol, datetime, direction, price, volume, size)\n",
    "        self.margin_rate = margin_rate\n",
    "\n",
    "    def calculate_cash_change(self):\n",
    "        \"\"\"計算期貨成交現金變化\"\"\"\n",
    "        value = self.price * self.volume *self.size *self.margin_rate\n",
    "        return value\n",
    "    \n",
    "    def to_str(self) -> str:\n",
    "        \"\"\"\"\"\"\n",
    "        cash_change = self.calculate_cash_change()\n",
    "        text =(\n",
    "            f\"{self.datetime}: {self.direction}\"\n",
    "            f\"{self.symbol} {self.volume}手@{self.price}\" \n",
    "            f\" 消耗保證金{cash_change}\"\n",
    "            )\n",
    "        return text\n",
    "    \n",
    "    def write_trade_log(self,strategy_name: str) -> None:\n",
    "        \"\"\"\"\"\"\n",
    "        print(f\"{strategy_name}期貨成交數據\",self.to_str())\n"
   ]
  },
  {
   "cell_type": "code",
   "execution_count": 43,
   "metadata": {},
   "outputs": [],
   "source": [
    "def print_strategy_trade(trade: TradeData,strategy_name: str):\n",
    "    trade.write_trade_log(strategy_name)\n",
    "    trade.write_trade_log(strategy_name)"
   ]
  },
  {
   "cell_type": "code",
   "execution_count": 44,
   "metadata": {},
   "outputs": [],
   "source": [
    "futures_trade = FutureTradeData(\"IF2010\",\"20100916 19:12:01\", \"買入\", 4300, 1, 300, 0.15)"
   ]
  },
  {
   "cell_type": "code",
   "execution_count": 45,
   "metadata": {},
   "outputs": [],
   "source": [
    "stock_trade = StockTradeData(\"60036\", \"20200916 19:51:01\", \"賣出\",30, 1000, 1)"
   ]
  },
  {
   "cell_type": "code",
   "execution_count": 47,
   "metadata": {},
   "outputs": [],
   "source": [
    "trade = TradeData(\"EURUSD\",\"20100916 19:12:01\", \"賣出\", 1.4, 100000, 1)"
   ]
  },
  {
   "cell_type": "code",
   "execution_count": 49,
   "metadata": {},
   "outputs": [
    {
     "name": "stdout",
     "output_type": "stream",
     "text": [
      "Demo策略成交數據 20100916 19:12:01: 賣出 EURUSD 100000手@1.4\n",
      "Demo策略成交數據 20100916 19:12:01: 賣出 EURUSD 100000手@1.4\n"
     ]
    }
   ],
   "source": [
    "print_strategy_trade(trade, \"Demo策略\")"
   ]
  },
  {
   "cell_type": "code",
   "execution_count": 50,
   "metadata": {},
   "outputs": [
    {
     "name": "stdout",
     "output_type": "stream",
     "text": [
      "Demo策略期貨成交數據 20100916 19:12:01: 買入IF2010 1手@4300 消耗保證金193500.0\n",
      "Demo策略期貨成交數據 20100916 19:12:01: 買入IF2010 1手@4300 消耗保證金193500.0\n"
     ]
    }
   ],
   "source": [
    "print_strategy_trade(futures_trade, \"Demo策略\")"
   ]
  },
  {
   "cell_type": "code",
   "execution_count": 51,
   "metadata": {},
   "outputs": [
    {
     "name": "stdout",
     "output_type": "stream",
     "text": [
      "Demo策略股票成交數據 20200916 19:51:01: 賣出 60036 1000手@30\n",
      "Demo策略股票成交數據 20200916 19:51:01: 賣出 60036 1000手@30\n"
     ]
    }
   ],
   "source": [
    "print_strategy_trade(stock_trade, \"Demo策略\")"
   ]
  },
  {
   "cell_type": "code",
   "execution_count": null,
   "metadata": {},
   "outputs": [],
   "source": []
  }
 ],
 "metadata": {
  "interpreter": {
   "hash": "0d2af4708e901420ca316528daed9d207adf237f59982b81f6b4928a0eab77f9"
  },
  "kernelspec": {
   "display_name": "Python 3.7.1 64-bit (system)",
   "language": "python",
   "name": "python3"
  },
  "language_info": {
   "codemirror_mode": {
    "name": "ipython",
    "version": 3
   },
   "file_extension": ".py",
   "mimetype": "text/x-python",
   "name": "python",
   "nbconvert_exporter": "python",
   "pygments_lexer": "ipython3",
   "version": "3.7.1"
  },
  "orig_nbformat": 4
 },
 "nbformat": 4,
 "nbformat_minor": 2
}
