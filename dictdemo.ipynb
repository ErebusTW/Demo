{
 "cells": [
  {
   "cell_type": "code",
   "execution_count": 30,
   "metadata": {},
   "outputs": [],
   "source": [
    "a = {} #a=[]"
   ]
  },
  {
   "cell_type": "code",
   "execution_count": 31,
   "metadata": {},
   "outputs": [
    {
     "data": {
      "text/plain": [
       "dict"
      ]
     },
     "execution_count": 31,
     "metadata": {},
     "output_type": "execute_result"
    }
   ],
   "source": [
    "type(a)"
   ]
  },
  {
   "cell_type": "code",
   "execution_count": 32,
   "metadata": {},
   "outputs": [],
   "source": [
    "a=dict() #a=list()"
   ]
  },
  {
   "cell_type": "code",
   "execution_count": 33,
   "metadata": {},
   "outputs": [],
   "source": [
    "contract_priceticks = {\n",
    "    \"IF2009\": 0.2,\n",
    "    \"rb2101\": 1,\n",
    "    \"600036\": 0.01\n",
    "}"
   ]
  },
  {
   "cell_type": "code",
   "execution_count": 34,
   "metadata": {},
   "outputs": [],
   "source": [
    "contract_priceticks = {\"IF2009\": 0.2, \"rb2101\": 1, \"600036\": 0.01}"
   ]
  },
  {
   "cell_type": "code",
   "execution_count": 35,
   "metadata": {},
   "outputs": [
    {
     "name": "stdout",
     "output_type": "stream",
     "text": [
      "{'IF2009': 0.2, 'rb2101': 1, '600036': 0.01}\n"
     ]
    }
   ],
   "source": [
    "print(contract_priceticks)"
   ]
  },
  {
   "cell_type": "code",
   "execution_count": 36,
   "metadata": {},
   "outputs": [],
   "source": [
    "a = dict(IF2009=0.2, rb2101=1 ,m2101=1)#這種方法無法寫上面這種600036的純數字"
   ]
  },
  {
   "cell_type": "code",
   "execution_count": 37,
   "metadata": {},
   "outputs": [
    {
     "data": {
      "text/plain": [
       "{'IF2009': 0.2, 'rb2101': 1, 'm2101': 1}"
      ]
     },
     "execution_count": 37,
     "metadata": {},
     "output_type": "execute_result"
    }
   ],
   "source": [
    "a"
   ]
  },
  {
   "cell_type": "code",
   "execution_count": 38,
   "metadata": {},
   "outputs": [],
   "source": [
    "l=[\n",
    "    (\"IF2009\", 0.2),\n",
    "    (\"rb2101\", 1),\n",
    "    (\"600036\" ,0.01)\n",
    "]\n",
    "a=dict(l)#可以針對列表轉換\n"
   ]
  },
  {
   "cell_type": "code",
   "execution_count": 39,
   "metadata": {},
   "outputs": [
    {
     "data": {
      "text/plain": [
       "[('IF2009', 0.2), ('rb2101', 1), ('600036', 0.01)]"
      ]
     },
     "execution_count": 39,
     "metadata": {},
     "output_type": "execute_result"
    }
   ],
   "source": [
    "l"
   ]
  },
  {
   "cell_type": "code",
   "execution_count": 40,
   "metadata": {},
   "outputs": [
    {
     "data": {
      "text/plain": [
       "{'IF2009': 0.2, 'rb2101': 1, '600036': 0.01}"
      ]
     },
     "execution_count": 40,
     "metadata": {},
     "output_type": "execute_result"
    }
   ],
   "source": [
    "a"
   ]
  },
  {
   "cell_type": "code",
   "execution_count": 41,
   "metadata": {},
   "outputs": [
    {
     "data": {
      "text/plain": [
       "('rb2101', 1)"
      ]
     },
     "execution_count": 41,
     "metadata": {},
     "output_type": "execute_result"
    }
   ],
   "source": [
    "l[1]"
   ]
  },
  {
   "cell_type": "code",
   "execution_count": 42,
   "metadata": {},
   "outputs": [
    {
     "data": {
      "text/plain": [
       "{'0': 0,\n",
       " '1': 1,\n",
       " '2': 4,\n",
       " '3': 9,\n",
       " '4': 16,\n",
       " '5': 25,\n",
       " '6': 36,\n",
       " '7': 49,\n",
       " '8': 64,\n",
       " '9': 81}"
      ]
     },
     "execution_count": 42,
     "metadata": {},
     "output_type": "execute_result"
    }
   ],
   "source": [
    "{str(i): i*i for i in range(10)} #列表解析"
   ]
  },
  {
   "cell_type": "code",
   "execution_count": 43,
   "metadata": {},
   "outputs": [],
   "source": [
    "pricetick=contract_priceticks[\"IF2009\"]"
   ]
  },
  {
   "cell_type": "code",
   "execution_count": 44,
   "metadata": {},
   "outputs": [
    {
     "name": "stdout",
     "output_type": "stream",
     "text": [
      "0.2\n"
     ]
    }
   ],
   "source": [
    "print(pricetick)"
   ]
  },
  {
   "cell_type": "code",
   "execution_count": 45,
   "metadata": {},
   "outputs": [],
   "source": [
    "contract_priceticks[\"IH2010\"] = 0.2"
   ]
  },
  {
   "cell_type": "code",
   "execution_count": 46,
   "metadata": {},
   "outputs": [
    {
     "name": "stdout",
     "output_type": "stream",
     "text": [
      "{'IF2009': 0.2, 'rb2101': 1, '600036': 0.01, 'IH2010': 0.2}\n"
     ]
    }
   ],
   "source": [
    "print(contract_priceticks)"
   ]
  },
  {
   "cell_type": "code",
   "execution_count": 47,
   "metadata": {},
   "outputs": [],
   "source": [
    "for symbol in [\"IC2009\", \"IC2010\", \"IC2012\" ,\"IC2101\"]:\n",
    "    contract_priceticks[symbol]=0.2"
   ]
  },
  {
   "cell_type": "code",
   "execution_count": 48,
   "metadata": {},
   "outputs": [
    {
     "name": "stdout",
     "output_type": "stream",
     "text": [
      "{'IF2009': 0.2, 'rb2101': 1, '600036': 0.01, 'IH2010': 0.2, 'IC2009': 0.2, 'IC2010': 0.2, 'IC2012': 0.2, 'IC2101': 0.2}\n"
     ]
    }
   ],
   "source": [
    "print(contract_priceticks)"
   ]
  },
  {
   "cell_type": "code",
   "execution_count": 49,
   "metadata": {},
   "outputs": [],
   "source": [
    "contract_priceticks[\"rb2101\"]=0.5"
   ]
  },
  {
   "cell_type": "code",
   "execution_count": 50,
   "metadata": {},
   "outputs": [
    {
     "name": "stdout",
     "output_type": "stream",
     "text": [
      "{'IF2009': 0.2, 'rb2101': 0.5, '600036': 0.01, 'IH2010': 0.2, 'IC2009': 0.2, 'IC2010': 0.2, 'IC2012': 0.2, 'IC2101': 0.2}\n"
     ]
    }
   ],
   "source": [
    "print(contract_priceticks)"
   ]
  },
  {
   "cell_type": "code",
   "execution_count": 51,
   "metadata": {},
   "outputs": [
    {
     "data": {
      "text/plain": [
       "0.5"
      ]
     },
     "execution_count": 51,
     "metadata": {},
     "output_type": "execute_result"
    }
   ],
   "source": [
    "contract_priceticks[\"rb2101\"]"
   ]
  },
  {
   "cell_type": "code",
   "execution_count": 52,
   "metadata": {},
   "outputs": [],
   "source": [
    "del contract_priceticks['IC2009']#刪除字典"
   ]
  },
  {
   "cell_type": "code",
   "execution_count": 53,
   "metadata": {},
   "outputs": [
    {
     "name": "stdout",
     "output_type": "stream",
     "text": [
      "{'IF2009': 0.2, 'rb2101': 0.5, '600036': 0.01, 'IH2010': 0.2, 'IC2010': 0.2, 'IC2012': 0.2, 'IC2101': 0.2}\n"
     ]
    }
   ],
   "source": [
    "print(contract_priceticks)"
   ]
  },
  {
   "cell_type": "code",
   "execution_count": 55,
   "metadata": {},
   "outputs": [
    {
     "ename": "TypeError",
     "evalue": "unhashable type: 'list'",
     "output_type": "error",
     "traceback": [
      "\u001b[1;31m---------------------------------------------------------------------------\u001b[0m",
      "\u001b[1;31mTypeError\u001b[0m                                 Traceback (most recent call last)",
      "\u001b[1;32m<ipython-input-55-5489be025cfc>\u001b[0m in \u001b[0;36m<module>\u001b[1;34m\u001b[0m\n\u001b[0;32m      1\u001b[0m \u001b[0ma\u001b[0m\u001b[1;33m=\u001b[0m\u001b[1;33m{\u001b[0m\u001b[1;33m}\u001b[0m\u001b[1;33m\u001b[0m\u001b[1;33m\u001b[0m\u001b[0m\n\u001b[0;32m      2\u001b[0m \u001b[0ml\u001b[0m\u001b[1;33m=\u001b[0m\u001b[1;33m[\u001b[0m\u001b[1;36m1\u001b[0m\u001b[1;33m,\u001b[0m\u001b[1;36m2\u001b[0m\u001b[1;33m,\u001b[0m\u001b[1;36m3\u001b[0m\u001b[1;33m]\u001b[0m\u001b[1;33m\u001b[0m\u001b[1;33m\u001b[0m\u001b[0m\n\u001b[1;32m----> 3\u001b[1;33m \u001b[0ma\u001b[0m\u001b[1;33m[\u001b[0m\u001b[0ml\u001b[0m\u001b[1;33m]\u001b[0m\u001b[1;33m=\u001b[0m\u001b[1;36m123\u001b[0m\u001b[1;33m\u001b[0m\u001b[1;33m\u001b[0m\u001b[0m\n\u001b[0m",
      "\u001b[1;31mTypeError\u001b[0m: unhashable type: 'list'"
     ]
    }
   ],
   "source": [
    "a={}\n",
    "l=[1,2,3]\n",
    "a[l]=123"
   ]
  },
  {
   "cell_type": "code",
   "execution_count": 56,
   "metadata": {},
   "outputs": [
    {
     "name": "stdout",
     "output_type": "stream",
     "text": [
      "IF2009\n",
      "rb2101\n",
      "600036\n",
      "IH2010\n",
      "IC2010\n",
      "IC2012\n",
      "IC2101\n"
     ]
    }
   ],
   "source": [
    "#循環遍歷\n",
    "for symbol in contract_priceticks:\n",
    "    print(symbol)"
   ]
  },
  {
   "cell_type": "code",
   "execution_count": 60,
   "metadata": {},
   "outputs": [
    {
     "name": "stdout",
     "output_type": "stream",
     "text": [
      "0.2\n",
      "0.5\n",
      "0.01\n",
      "0.2\n",
      "0.2\n",
      "0.2\n",
      "0.2\n"
     ]
    }
   ],
   "source": [
    "for pricetick in contract_priceticks.values():\n",
    "    print(pricetick)"
   ]
  },
  {
   "cell_type": "code",
   "execution_count": 64,
   "metadata": {},
   "outputs": [
    {
     "name": "stdout",
     "output_type": "stream",
     "text": [
      "IF2009的合約價格跳動是0.2\n",
      "rb2101的合約價格跳動是0.5\n",
      "600036的合約價格跳動是0.01\n",
      "IH2010的合約價格跳動是0.2\n",
      "IC2010的合約價格跳動是0.2\n",
      "IC2012的合約價格跳動是0.2\n",
      "IC2101的合約價格跳動是0.2\n"
     ]
    }
   ],
   "source": [
    "for symbol, pricetick in contract_priceticks.items():\n",
    "    print(f\"{symbol}的合約價格跳動是{pricetick}\")"
   ]
  },
  {
   "cell_type": "code",
   "execution_count": 65,
   "metadata": {},
   "outputs": [
    {
     "data": {
      "text/plain": [
       "{'IF2009': 0.2,\n",
       " 'rb2101': 0.5,\n",
       " '600036': 0.01,\n",
       " 'IH2010': 0.2,\n",
       " 'IC2010': 0.2,\n",
       " 'IC2012': 0.2,\n",
       " 'IC2101': 0.2}"
      ]
     },
     "execution_count": 65,
     "metadata": {},
     "output_type": "execute_result"
    }
   ],
   "source": [
    "#in,get,update\n",
    "contract_priceticks"
   ]
  },
  {
   "cell_type": "code",
   "execution_count": 66,
   "metadata": {},
   "outputs": [
    {
     "data": {
      "text/plain": [
       "False"
      ]
     },
     "execution_count": 66,
     "metadata": {},
     "output_type": "execute_result"
    }
   ],
   "source": [
    "\"IC2009\" in contract_priceticks"
   ]
  },
  {
   "cell_type": "code",
   "execution_count": 67,
   "metadata": {},
   "outputs": [
    {
     "data": {
      "text/plain": [
       "True"
      ]
     },
     "execution_count": 67,
     "metadata": {},
     "output_type": "execute_result"
    }
   ],
   "source": [
    "\"IF2009\" in contract_priceticks"
   ]
  },
  {
   "cell_type": "code",
   "execution_count": 68,
   "metadata": {},
   "outputs": [
    {
     "ename": "KeyError",
     "evalue": "'IC2009'",
     "output_type": "error",
     "traceback": [
      "\u001b[1;31m---------------------------------------------------------------------------\u001b[0m",
      "\u001b[1;31mKeyError\u001b[0m                                  Traceback (most recent call last)",
      "\u001b[1;32m<ipython-input-68-7ad6a5147c1f>\u001b[0m in \u001b[0;36m<module>\u001b[1;34m\u001b[0m\n\u001b[1;32m----> 1\u001b[1;33m \u001b[0mcontract_priceticks\u001b[0m\u001b[1;33m[\u001b[0m\u001b[1;34m\"IC2009\"\u001b[0m\u001b[1;33m]\u001b[0m\u001b[1;33m\u001b[0m\u001b[1;33m\u001b[0m\u001b[0m\n\u001b[0m",
      "\u001b[1;31mKeyError\u001b[0m: 'IC2009'"
     ]
    }
   ],
   "source": [
    "contract_priceticks[\"IC2009\"]"
   ]
  },
  {
   "cell_type": "code",
   "execution_count": 69,
   "metadata": {},
   "outputs": [
    {
     "data": {
      "text/plain": [
       "0"
      ]
     },
     "execution_count": 69,
     "metadata": {},
     "output_type": "execute_result"
    }
   ],
   "source": [
    "contract_priceticks.get(\"IC2009\",0)"
   ]
  },
  {
   "cell_type": "code",
   "execution_count": 70,
   "metadata": {},
   "outputs": [
    {
     "data": {
      "text/plain": [
       "0.2"
      ]
     },
     "execution_count": 70,
     "metadata": {},
     "output_type": "execute_result"
    }
   ],
   "source": [
    "contract_priceticks.get(\"IF2009\",0)"
   ]
  },
  {
   "cell_type": "code",
   "execution_count": 72,
   "metadata": {},
   "outputs": [],
   "source": [
    "new_priceticks ={\n",
    "    \"IC2009\": 0.2,\n",
    "    \"IC2010\": 0.2,\n",
    "    \"IC2012\": 0.2,\n",
    "    \"IC2101\": 0.2\n",
    "}"
   ]
  },
  {
   "cell_type": "code",
   "execution_count": 73,
   "metadata": {},
   "outputs": [],
   "source": [
    "contract_priceticks.update(new_priceticks)#合併"
   ]
  },
  {
   "cell_type": "code",
   "execution_count": 75,
   "metadata": {},
   "outputs": [
    {
     "name": "stdout",
     "output_type": "stream",
     "text": [
      "{'IF2009': 0.2, 'rb2101': 0.5, '600036': 0.01, 'IH2010': 0.2, 'IC2010': 0.2, 'IC2012': 0.2, 'IC2101': 0.2, 'IC2009': 0.2}\n"
     ]
    }
   ],
   "source": [
    "print(contract_priceticks)"
   ]
  },
  {
   "cell_type": "code",
   "execution_count": 78,
   "metadata": {},
   "outputs": [
    {
     "data": {
      "text/plain": [
       "{'__name__': '__main__',\n",
       " '__doc__': 'Automatically created module for IPython interactive environment',\n",
       " '__package__': None,\n",
       " '__loader__': None,\n",
       " '__spec__': None,\n",
       " '__builtin__': <module 'builtins' (built-in)>,\n",
       " '__builtins__': <module 'builtins' (built-in)>,\n",
       " '_ih': ['',\n",
       "  'a = {} #a=[]',\n",
       "  'type(a)',\n",
       "  'a=dict() #a=list()',\n",
       "  'contract_priceticks = {\\n    \"IF2009\": 0.2,\\n    \"rb2101\": 1,\\n    \"600036\": 0.01\\n}',\n",
       "  'contract_priceticks = {\"IF2009\": 0.2, \"rb2101\": 1, \"600036\": 0.01}',\n",
       "  'print(contract_priceticks)',\n",
       "  'a = dict(IF2009=0.2, rb2101=1 ,m2101=1)#這種方法無法寫上面這種600036的純數字',\n",
       "  'a',\n",
       "  'l',\n",
       "  'l',\n",
       "  'l',\n",
       "  'l=[\\n    (\"IF2009\", 0.2),\\n    (\"rb2101\", 1),\\n    (\"600036\" ,0.01)\\n]\\na=dict(l)#可以針對列表轉換',\n",
       "  'l',\n",
       "  'a = {} #a=[]',\n",
       "  'type(a)',\n",
       "  'a=dict() #a=list()',\n",
       "  'contract_priceticks = {\\n    \"IF2009\": 0.2,\\n    \"rb2101\": 1,\\n    \"600036\": 0.01\\n}',\n",
       "  'contract_priceticks = {\"IF2009\": 0.2, \"rb2101\": 1, \"600036\": 0.01}',\n",
       "  'print(contract_priceticks)',\n",
       "  'a = dict(IF2009=0.2, rb2101=1 ,m2101=1)#這種方法無法寫上面這種600036的純數字',\n",
       "  'a',\n",
       "  'l=[\\n    (\"IF2009\", 0.2),\\n    (\"rb2101\", 1),\\n    (\"600036\" ,0.01)\\n]\\na=dict(l)#可以針對列表轉換',\n",
       "  'l',\n",
       "  'a',\n",
       "  'contract_priceticks[\"IH2010\" = 0.2]',\n",
       "  'contract_priceticks[\"IH2010\"] = 0.2',\n",
       "  'contract_priceticks[\"IH2010\"] = 0.2',\n",
       "  'contract_priceticks[\"IH2010\"] = 0.2',\n",
       "  'contract_priceticks[\"IH2010\"] = 0.2',\n",
       "  'a = {} #a=[]',\n",
       "  'type(a)',\n",
       "  'a=dict() #a=list()',\n",
       "  'contract_priceticks = {\\n    \"IF2009\": 0.2,\\n    \"rb2101\": 1,\\n    \"600036\": 0.01\\n}',\n",
       "  'contract_priceticks = {\"IF2009\": 0.2, \"rb2101\": 1, \"600036\": 0.01}',\n",
       "  'print(contract_priceticks)',\n",
       "  'a = dict(IF2009=0.2, rb2101=1 ,m2101=1)#這種方法無法寫上面這種600036的純數字',\n",
       "  'a',\n",
       "  'l=[\\n    (\"IF2009\", 0.2),\\n    (\"rb2101\", 1),\\n    (\"600036\" ,0.01)\\n]\\na=dict(l)#可以針對列表轉換',\n",
       "  'l',\n",
       "  'a',\n",
       "  'l[1]',\n",
       "  '{str(i): i*i for i in range(10)} #列表解析',\n",
       "  'pricetick=contract_priceticks[\"IF2009\"]',\n",
       "  'print(pricetick)',\n",
       "  'contract_priceticks[\"IH2010\"] = 0.2',\n",
       "  'print(contract_priceticks)',\n",
       "  'for symbol in [\"IC2009\", \"IC2010\", \"IC2012\" ,\"IC2101\"]:\\n    contract_priceticks[symbol]=0.2',\n",
       "  'print(contract_priceticks)',\n",
       "  'contract_priceticks[\"rb2101\"]=0.5',\n",
       "  'print(contract_priceticks)',\n",
       "  'contract_priceticks[\"rb2101\"]',\n",
       "  \"del contract_priceticks['IC2009']\",\n",
       "  'print(contract_priceticks)',\n",
       "  'a={}\\nl=[1,2,3]\\na[l]=123',\n",
       "  'a={}\\nl=[1,2,3]\\na[l]=123',\n",
       "  '#循環遍歷\\nfor symbol in contract_priceticks:\\n    print(symbol)',\n",
       "  'for pricetick in contract_priceticks.value():\\n    print(pricetick)',\n",
       "  'contract_priceticks.value()',\n",
       "  'contract_priceticks.items()',\n",
       "  'for pricetick in contract_priceticks.values():\\n    print(pricetick)',\n",
       "  'for pricetick in contract_priceticks.items():\\n    print(pricetick)',\n",
       "  'for pricetick in contract_priceticks.items():\\n    print(pricetick)',\n",
       "  'for symbol, pricetick in contract_priceticks.items():\\n    print(f\"{symbol}的合約價格跳動是{pricetick})',\n",
       "  'for symbol, pricetick in contract_priceticks.items():\\n    print(f\"{symbol}的合約價格跳動是{pricetick}\")',\n",
       "  '#in,get,update\\ncontract_priceticks',\n",
       "  '\"IC2009\" in contract_priceticks',\n",
       "  '\"IF2009\" in contract_priceticks',\n",
       "  'contract_priceticks[\"IC2009\"]',\n",
       "  'contract_priceticks.get(\"IC2009\",0)',\n",
       "  'contract_priceticks.get(\"IF2009\",0)',\n",
       "  'new_priceticks ={\\n    \"IC2009\": 0.2,\\n    \"IC2010\": 0.2,\\n    \"IC2012\": 0.2,\\n    \"IC2101\": 0.2,\\n}',\n",
       "  'new_priceticks ={\\n    \"IC2009\": 0.2,\\n    \"IC2010\": 0.2,\\n    \"IC2012\": 0.2,\\n    \"IC2101\": 0.2\\n}',\n",
       "  'contract_priceticks.update(new_priceticks)',\n",
       "  'print(contract_priceticks)',\n",
       "  'print(contract_priceticks)',\n",
       "  '1111',\n",
       "  'global',\n",
       "  'globals()'],\n",
       " '_oh': {2: dict,\n",
       "  8: {'IF2009': 0.2, 'rb2101': 1, 'm2101': 1},\n",
       "  13: [('IF2009', 0.2), ('rb2101', 1), ('600036', 0.01)],\n",
       "  15: dict,\n",
       "  21: {'IF2009': 0.2, 'rb2101': 1, 'm2101': 1},\n",
       "  23: [('IF2009', 0.2), ('rb2101', 1), ('600036', 0.01)],\n",
       "  24: {'IF2009': 0.2, 'rb2101': 1, '600036': 0.01},\n",
       "  31: dict,\n",
       "  37: {'IF2009': 0.2, 'rb2101': 1, 'm2101': 1},\n",
       "  39: [('IF2009', 0.2), ('rb2101', 1), ('600036', 0.01)],\n",
       "  40: {'IF2009': 0.2, 'rb2101': 1, '600036': 0.01},\n",
       "  41: ('rb2101', 1),\n",
       "  42: {'0': 0,\n",
       "   '1': 1,\n",
       "   '2': 4,\n",
       "   '3': 9,\n",
       "   '4': 16,\n",
       "   '5': 25,\n",
       "   '6': 36,\n",
       "   '7': 49,\n",
       "   '8': 64,\n",
       "   '9': 81},\n",
       "  51: 0.5,\n",
       "  59: dict_items([('IF2009', 0.2), ('rb2101', 0.5), ('600036', 0.01), ('IH2010', 0.2), ('IC2010', 0.2), ('IC2012', 0.2), ('IC2101', 0.2), ('IC2009', 0.2)]),\n",
       "  65: {'IF2009': 0.2,\n",
       "   'rb2101': 0.5,\n",
       "   '600036': 0.01,\n",
       "   'IH2010': 0.2,\n",
       "   'IC2010': 0.2,\n",
       "   'IC2012': 0.2,\n",
       "   'IC2101': 0.2,\n",
       "   'IC2009': 0.2},\n",
       "  66: False,\n",
       "  67: True,\n",
       "  69: 0,\n",
       "  70: 0.2,\n",
       "  76: 1111},\n",
       " '_dh': ['c:\\\\Users\\\\zsp11\\\\Documents\\\\GitHub\\\\Demo'],\n",
       " 'In': ['',\n",
       "  'a = {} #a=[]',\n",
       "  'type(a)',\n",
       "  'a=dict() #a=list()',\n",
       "  'contract_priceticks = {\\n    \"IF2009\": 0.2,\\n    \"rb2101\": 1,\\n    \"600036\": 0.01\\n}',\n",
       "  'contract_priceticks = {\"IF2009\": 0.2, \"rb2101\": 1, \"600036\": 0.01}',\n",
       "  'print(contract_priceticks)',\n",
       "  'a = dict(IF2009=0.2, rb2101=1 ,m2101=1)#這種方法無法寫上面這種600036的純數字',\n",
       "  'a',\n",
       "  'l',\n",
       "  'l',\n",
       "  'l',\n",
       "  'l=[\\n    (\"IF2009\", 0.2),\\n    (\"rb2101\", 1),\\n    (\"600036\" ,0.01)\\n]\\na=dict(l)#可以針對列表轉換',\n",
       "  'l',\n",
       "  'a = {} #a=[]',\n",
       "  'type(a)',\n",
       "  'a=dict() #a=list()',\n",
       "  'contract_priceticks = {\\n    \"IF2009\": 0.2,\\n    \"rb2101\": 1,\\n    \"600036\": 0.01\\n}',\n",
       "  'contract_priceticks = {\"IF2009\": 0.2, \"rb2101\": 1, \"600036\": 0.01}',\n",
       "  'print(contract_priceticks)',\n",
       "  'a = dict(IF2009=0.2, rb2101=1 ,m2101=1)#這種方法無法寫上面這種600036的純數字',\n",
       "  'a',\n",
       "  'l=[\\n    (\"IF2009\", 0.2),\\n    (\"rb2101\", 1),\\n    (\"600036\" ,0.01)\\n]\\na=dict(l)#可以針對列表轉換',\n",
       "  'l',\n",
       "  'a',\n",
       "  'contract_priceticks[\"IH2010\" = 0.2]',\n",
       "  'contract_priceticks[\"IH2010\"] = 0.2',\n",
       "  'contract_priceticks[\"IH2010\"] = 0.2',\n",
       "  'contract_priceticks[\"IH2010\"] = 0.2',\n",
       "  'contract_priceticks[\"IH2010\"] = 0.2',\n",
       "  'a = {} #a=[]',\n",
       "  'type(a)',\n",
       "  'a=dict() #a=list()',\n",
       "  'contract_priceticks = {\\n    \"IF2009\": 0.2,\\n    \"rb2101\": 1,\\n    \"600036\": 0.01\\n}',\n",
       "  'contract_priceticks = {\"IF2009\": 0.2, \"rb2101\": 1, \"600036\": 0.01}',\n",
       "  'print(contract_priceticks)',\n",
       "  'a = dict(IF2009=0.2, rb2101=1 ,m2101=1)#這種方法無法寫上面這種600036的純數字',\n",
       "  'a',\n",
       "  'l=[\\n    (\"IF2009\", 0.2),\\n    (\"rb2101\", 1),\\n    (\"600036\" ,0.01)\\n]\\na=dict(l)#可以針對列表轉換',\n",
       "  'l',\n",
       "  'a',\n",
       "  'l[1]',\n",
       "  '{str(i): i*i for i in range(10)} #列表解析',\n",
       "  'pricetick=contract_priceticks[\"IF2009\"]',\n",
       "  'print(pricetick)',\n",
       "  'contract_priceticks[\"IH2010\"] = 0.2',\n",
       "  'print(contract_priceticks)',\n",
       "  'for symbol in [\"IC2009\", \"IC2010\", \"IC2012\" ,\"IC2101\"]:\\n    contract_priceticks[symbol]=0.2',\n",
       "  'print(contract_priceticks)',\n",
       "  'contract_priceticks[\"rb2101\"]=0.5',\n",
       "  'print(contract_priceticks)',\n",
       "  'contract_priceticks[\"rb2101\"]',\n",
       "  \"del contract_priceticks['IC2009']\",\n",
       "  'print(contract_priceticks)',\n",
       "  'a={}\\nl=[1,2,3]\\na[l]=123',\n",
       "  'a={}\\nl=[1,2,3]\\na[l]=123',\n",
       "  '#循環遍歷\\nfor symbol in contract_priceticks:\\n    print(symbol)',\n",
       "  'for pricetick in contract_priceticks.value():\\n    print(pricetick)',\n",
       "  'contract_priceticks.value()',\n",
       "  'contract_priceticks.items()',\n",
       "  'for pricetick in contract_priceticks.values():\\n    print(pricetick)',\n",
       "  'for pricetick in contract_priceticks.items():\\n    print(pricetick)',\n",
       "  'for pricetick in contract_priceticks.items():\\n    print(pricetick)',\n",
       "  'for symbol, pricetick in contract_priceticks.items():\\n    print(f\"{symbol}的合約價格跳動是{pricetick})',\n",
       "  'for symbol, pricetick in contract_priceticks.items():\\n    print(f\"{symbol}的合約價格跳動是{pricetick}\")',\n",
       "  '#in,get,update\\ncontract_priceticks',\n",
       "  '\"IC2009\" in contract_priceticks',\n",
       "  '\"IF2009\" in contract_priceticks',\n",
       "  'contract_priceticks[\"IC2009\"]',\n",
       "  'contract_priceticks.get(\"IC2009\",0)',\n",
       "  'contract_priceticks.get(\"IF2009\",0)',\n",
       "  'new_priceticks ={\\n    \"IC2009\": 0.2,\\n    \"IC2010\": 0.2,\\n    \"IC2012\": 0.2,\\n    \"IC2101\": 0.2,\\n}',\n",
       "  'new_priceticks ={\\n    \"IC2009\": 0.2,\\n    \"IC2010\": 0.2,\\n    \"IC2012\": 0.2,\\n    \"IC2101\": 0.2\\n}',\n",
       "  'contract_priceticks.update(new_priceticks)',\n",
       "  'print(contract_priceticks)',\n",
       "  'print(contract_priceticks)',\n",
       "  '1111',\n",
       "  'global',\n",
       "  'globals()'],\n",
       " 'Out': {2: dict,\n",
       "  8: {'IF2009': 0.2, 'rb2101': 1, 'm2101': 1},\n",
       "  13: [('IF2009', 0.2), ('rb2101', 1), ('600036', 0.01)],\n",
       "  15: dict,\n",
       "  21: {'IF2009': 0.2, 'rb2101': 1, 'm2101': 1},\n",
       "  23: [('IF2009', 0.2), ('rb2101', 1), ('600036', 0.01)],\n",
       "  24: {'IF2009': 0.2, 'rb2101': 1, '600036': 0.01},\n",
       "  31: dict,\n",
       "  37: {'IF2009': 0.2, 'rb2101': 1, 'm2101': 1},\n",
       "  39: [('IF2009', 0.2), ('rb2101', 1), ('600036', 0.01)],\n",
       "  40: {'IF2009': 0.2, 'rb2101': 1, '600036': 0.01},\n",
       "  41: ('rb2101', 1),\n",
       "  42: {'0': 0,\n",
       "   '1': 1,\n",
       "   '2': 4,\n",
       "   '3': 9,\n",
       "   '4': 16,\n",
       "   '5': 25,\n",
       "   '6': 36,\n",
       "   '7': 49,\n",
       "   '8': 64,\n",
       "   '9': 81},\n",
       "  51: 0.5,\n",
       "  59: dict_items([('IF2009', 0.2), ('rb2101', 0.5), ('600036', 0.01), ('IH2010', 0.2), ('IC2010', 0.2), ('IC2012', 0.2), ('IC2101', 0.2), ('IC2009', 0.2)]),\n",
       "  65: {'IF2009': 0.2,\n",
       "   'rb2101': 0.5,\n",
       "   '600036': 0.01,\n",
       "   'IH2010': 0.2,\n",
       "   'IC2010': 0.2,\n",
       "   'IC2012': 0.2,\n",
       "   'IC2101': 0.2,\n",
       "   'IC2009': 0.2},\n",
       "  66: False,\n",
       "  67: True,\n",
       "  69: 0,\n",
       "  70: 0.2,\n",
       "  76: 1111},\n",
       " 'get_ipython': <bound method InteractiveShell.get_ipython of <ipykernel.zmqshell.ZMQInteractiveShell object at 0x00000155739CED30>>,\n",
       " 'exit': <IPython.core.autocall.ZMQExitAutocall at 0x15573a64fd0>,\n",
       " 'quit': <IPython.core.autocall.ZMQExitAutocall at 0x15573a64fd0>,\n",
       " '_': 1111,\n",
       " '__': 0.2,\n",
       " '___': 0,\n",
       " 'os': <module 'os' from 'C:\\\\vnstudio\\\\lib\\\\os.py'>,\n",
       " 'sys': <module 'sys' (built-in)>,\n",
       " '_i': 'global',\n",
       " '_ii': '1111',\n",
       " '_iii': 'print(contract_priceticks)',\n",
       " '_i1': 'a = {} #a=[]',\n",
       " 'a': {},\n",
       " '_i2': 'type(a)',\n",
       " '_2': dict,\n",
       " '_i3': 'a=dict() #a=list()',\n",
       " '_i4': 'contract_priceticks = {\\n    \"IF2009\": 0.2,\\n    \"rb2101\": 1,\\n    \"600036\": 0.01\\n}',\n",
       " 'contract_priceticks': {'IF2009': 0.2,\n",
       "  'rb2101': 0.5,\n",
       "  '600036': 0.01,\n",
       "  'IH2010': 0.2,\n",
       "  'IC2010': 0.2,\n",
       "  'IC2012': 0.2,\n",
       "  'IC2101': 0.2,\n",
       "  'IC2009': 0.2},\n",
       " '_i5': 'contract_priceticks = {\"IF2009\": 0.2, \"rb2101\": 1, \"600036\": 0.01}',\n",
       " '_i6': 'print(contract_priceticks)',\n",
       " '_i7': 'a = dict(IF2009=0.2, rb2101=1 ,m2101=1)#這種方法無法寫上面這種600036的純數字',\n",
       " '_i8': 'a',\n",
       " '_8': {'IF2009': 0.2, 'rb2101': 1, 'm2101': 1},\n",
       " '_i9': 'l',\n",
       " '_i10': 'l',\n",
       " '_i11': 'l',\n",
       " '_i12': 'l=[\\n    (\"IF2009\", 0.2),\\n    (\"rb2101\", 1),\\n    (\"600036\" ,0.01)\\n]\\na=dict(l)#可以針對列表轉換',\n",
       " 'l': [1, 2, 3],\n",
       " '_i13': 'l',\n",
       " '_13': [('IF2009', 0.2), ('rb2101', 1), ('600036', 0.01)],\n",
       " '_i14': 'a = {} #a=[]',\n",
       " '_i15': 'type(a)',\n",
       " '_15': dict,\n",
       " '_i16': 'a=dict() #a=list()',\n",
       " '_i17': 'contract_priceticks = {\\n    \"IF2009\": 0.2,\\n    \"rb2101\": 1,\\n    \"600036\": 0.01\\n}',\n",
       " '_i18': 'contract_priceticks = {\"IF2009\": 0.2, \"rb2101\": 1, \"600036\": 0.01}',\n",
       " '_i19': 'print(contract_priceticks)',\n",
       " '_i20': 'a = dict(IF2009=0.2, rb2101=1 ,m2101=1)#這種方法無法寫上面這種600036的純數字',\n",
       " '_i21': 'a',\n",
       " '_21': {'IF2009': 0.2, 'rb2101': 1, 'm2101': 1},\n",
       " '_i22': 'l=[\\n    (\"IF2009\", 0.2),\\n    (\"rb2101\", 1),\\n    (\"600036\" ,0.01)\\n]\\na=dict(l)#可以針對列表轉換',\n",
       " '_i23': 'l',\n",
       " '_23': [('IF2009', 0.2), ('rb2101', 1), ('600036', 0.01)],\n",
       " '_i24': 'a',\n",
       " '_24': {'IF2009': 0.2, 'rb2101': 1, '600036': 0.01},\n",
       " '_i25': 'contract_priceticks[\"IH2010\" = 0.2]',\n",
       " '_i26': 'contract_priceticks[\"IH2010\"] = 0.2',\n",
       " '_i27': 'contract_priceticks[\"IH2010\"] = 0.2',\n",
       " '_i28': 'contract_priceticks[\"IH2010\"] = 0.2',\n",
       " '_i29': 'contract_priceticks[\"IH2010\"] = 0.2',\n",
       " '_i30': 'a = {} #a=[]',\n",
       " '_i31': 'type(a)',\n",
       " '_31': dict,\n",
       " '_i32': 'a=dict() #a=list()',\n",
       " '_i33': 'contract_priceticks = {\\n    \"IF2009\": 0.2,\\n    \"rb2101\": 1,\\n    \"600036\": 0.01\\n}',\n",
       " '_i34': 'contract_priceticks = {\"IF2009\": 0.2, \"rb2101\": 1, \"600036\": 0.01}',\n",
       " '_i35': 'print(contract_priceticks)',\n",
       " '_i36': 'a = dict(IF2009=0.2, rb2101=1 ,m2101=1)#這種方法無法寫上面這種600036的純數字',\n",
       " '_i37': 'a',\n",
       " '_37': {'IF2009': 0.2, 'rb2101': 1, 'm2101': 1},\n",
       " '_i38': 'l=[\\n    (\"IF2009\", 0.2),\\n    (\"rb2101\", 1),\\n    (\"600036\" ,0.01)\\n]\\na=dict(l)#可以針對列表轉換',\n",
       " '_i39': 'l',\n",
       " '_39': [('IF2009', 0.2), ('rb2101', 1), ('600036', 0.01)],\n",
       " '_i40': 'a',\n",
       " '_40': {'IF2009': 0.2, 'rb2101': 1, '600036': 0.01},\n",
       " '_i41': 'l[1]',\n",
       " '_41': ('rb2101', 1),\n",
       " '_i42': '{str(i): i*i for i in range(10)} #列表解析',\n",
       " '_42': {'0': 0,\n",
       "  '1': 1,\n",
       "  '2': 4,\n",
       "  '3': 9,\n",
       "  '4': 16,\n",
       "  '5': 25,\n",
       "  '6': 36,\n",
       "  '7': 49,\n",
       "  '8': 64,\n",
       "  '9': 81},\n",
       " '_i43': 'pricetick=contract_priceticks[\"IF2009\"]',\n",
       " 'pricetick': 0.2,\n",
       " '_i44': 'print(pricetick)',\n",
       " '_i45': 'contract_priceticks[\"IH2010\"] = 0.2',\n",
       " '_i46': 'print(contract_priceticks)',\n",
       " '_i47': 'for symbol in [\"IC2009\", \"IC2010\", \"IC2012\" ,\"IC2101\"]:\\n    contract_priceticks[symbol]=0.2',\n",
       " 'symbol': 'IC2101',\n",
       " '_i48': 'print(contract_priceticks)',\n",
       " '_i49': 'contract_priceticks[\"rb2101\"]=0.5',\n",
       " '_i50': 'print(contract_priceticks)',\n",
       " '_i51': 'contract_priceticks[\"rb2101\"]',\n",
       " '_51': 0.5,\n",
       " '_i52': \"del contract_priceticks['IC2009']\",\n",
       " '_i53': 'print(contract_priceticks)',\n",
       " '_i54': 'a={}\\nl=[1,2,3]\\na[l]=123',\n",
       " '_i55': 'a={}\\nl=[1,2,3]\\na[l]=123',\n",
       " '_i56': '#循環遍歷\\nfor symbol in contract_priceticks:\\n    print(symbol)',\n",
       " '_i57': 'for pricetick in contract_priceticks.value():\\n    print(pricetick)',\n",
       " '_i58': 'contract_priceticks.value()',\n",
       " '_i59': 'contract_priceticks.items()',\n",
       " '_59': dict_items([('IF2009', 0.2), ('rb2101', 0.5), ('600036', 0.01), ('IH2010', 0.2), ('IC2010', 0.2), ('IC2012', 0.2), ('IC2101', 0.2), ('IC2009', 0.2)]),\n",
       " '_i60': 'for pricetick in contract_priceticks.values():\\n    print(pricetick)',\n",
       " '_i61': 'for pricetick in contract_priceticks.items():\\n    print(pricetick)',\n",
       " '_i62': 'for pricetick in contract_priceticks.items():\\n    print(pricetick)',\n",
       " '_i63': 'for symbol, pricetick in contract_priceticks.items():\\n    print(f\"{symbol}的合約價格跳動是{pricetick})',\n",
       " '_i64': 'for symbol, pricetick in contract_priceticks.items():\\n    print(f\"{symbol}的合約價格跳動是{pricetick}\")',\n",
       " '_i65': '#in,get,update\\ncontract_priceticks',\n",
       " '_65': {'IF2009': 0.2,\n",
       "  'rb2101': 0.5,\n",
       "  '600036': 0.01,\n",
       "  'IH2010': 0.2,\n",
       "  'IC2010': 0.2,\n",
       "  'IC2012': 0.2,\n",
       "  'IC2101': 0.2,\n",
       "  'IC2009': 0.2},\n",
       " '_i66': '\"IC2009\" in contract_priceticks',\n",
       " '_66': False,\n",
       " '_i67': '\"IF2009\" in contract_priceticks',\n",
       " '_67': True,\n",
       " '_i68': 'contract_priceticks[\"IC2009\"]',\n",
       " '_i69': 'contract_priceticks.get(\"IC2009\",0)',\n",
       " '_69': 0,\n",
       " '_i70': 'contract_priceticks.get(\"IF2009\",0)',\n",
       " '_70': 0.2,\n",
       " '_i71': 'new_priceticks ={\\n    \"IC2009\": 0.2,\\n    \"IC2010\": 0.2,\\n    \"IC2012\": 0.2,\\n    \"IC2101\": 0.2,\\n}',\n",
       " 'new_priceticks': {'IC2009': 0.2,\n",
       "  'IC2010': 0.2,\n",
       "  'IC2012': 0.2,\n",
       "  'IC2101': 0.2},\n",
       " '_i72': 'new_priceticks ={\\n    \"IC2009\": 0.2,\\n    \"IC2010\": 0.2,\\n    \"IC2012\": 0.2,\\n    \"IC2101\": 0.2\\n}',\n",
       " '_i73': 'contract_priceticks.update(new_priceticks)',\n",
       " '_i74': 'print(contract_priceticks)',\n",
       " '_i75': 'print(contract_priceticks)',\n",
       " '_i76': '1111',\n",
       " '_76': 1111,\n",
       " '_i77': 'global',\n",
       " '_i78': 'globals()'}"
      ]
     },
     "execution_count": 78,
     "metadata": {},
     "output_type": "execute_result"
    }
   ],
   "source": [
    "globals()"
   ]
  },
  {
   "cell_type": "code",
   "execution_count": 79,
   "metadata": {},
   "outputs": [],
   "source": [
    "from vnpy.trader.object import BaseData"
   ]
  },
  {
   "cell_type": "code",
   "execution_count": 80,
   "metadata": {},
   "outputs": [],
   "source": [
    "base=BaseData(gateway_name='CTP')"
   ]
  },
  {
   "cell_type": "code",
   "execution_count": 81,
   "metadata": {},
   "outputs": [
    {
     "name": "stdout",
     "output_type": "stream",
     "text": [
      "{'gateway_name': 'CTP'}\n"
     ]
    }
   ],
   "source": [
    "print(base.__dict__)"
   ]
  },
  {
   "cell_type": "code",
   "execution_count": 82,
   "metadata": {},
   "outputs": [
    {
     "name": "stdout",
     "output_type": "stream",
     "text": [
      "BaseData(gateway_name='CTP')\n"
     ]
    }
   ],
   "source": [
    "print(base)"
   ]
  }
 ],
 "metadata": {
  "interpreter": {
   "hash": "0d2af4708e901420ca316528daed9d207adf237f59982b81f6b4928a0eab77f9"
  },
  "kernelspec": {
   "display_name": "Python 3.7.1 64-bit (system)",
   "language": "python",
   "name": "python3"
  },
  "language_info": {
   "codemirror_mode": {
    "name": "ipython",
    "version": 3
   },
   "file_extension": ".py",
   "mimetype": "text/x-python",
   "name": "python",
   "nbconvert_exporter": "python",
   "pygments_lexer": "ipython3",
   "version": "3.7.1"
  },
  "orig_nbformat": 4
 },
 "nbformat": 4,
 "nbformat_minor": 2
}
