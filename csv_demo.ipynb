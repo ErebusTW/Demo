{
 "cells": [
  {
   "cell_type": "code",
   "execution_count": null,
   "metadata": {},
   "outputs": [],
   "source": [
    "#處理csv數據"
   ]
  },
  {
   "cell_type": "code",
   "execution_count": 8,
   "metadata": {},
   "outputs": [],
   "source": [
    "import csv"
   ]
  },
  {
   "cell_type": "code",
   "execution_count": 9,
   "metadata": {},
   "outputs": [],
   "source": [
    "with open(\"test1.csv\", \"w\", newline=\"\") as f:\n",
    "    writer = csv.writer(f)\n",
    "\n",
    "    writer.writerow([\"symbol\", \"date\", \"close\"])\n",
    "    writer.writerow([\"rb2101\", \"20200907\", \"3736\"])\n",
    "    writer.writerow([\"rb2101\", \"20200908\", \"3719\"])\n",
    "    writer.writerow([\"rb2101\", \"20200909\", \"3658\"])"
   ]
  },
  {
   "cell_type": "code",
   "execution_count": 10,
   "metadata": {},
   "outputs": [],
   "source": [
    "#與上方代碼一樣功能但上方代碼更好不會忘記關\n",
    "f=open(\"test1.csv\", \"w\", newline=\"\")\n",
    "\n",
    "writer = csv.writer(f)\n",
    "\n",
    "writer.writerow([\"symbol\", \"date\", \"close\"])\n",
    "writer.writerow([\"rb2101\", \"20200907\", \"3736\"])\n",
    "writer.writerow([\"rb2101\", \"20200908\", \"3719\"])\n",
    "writer.writerow([\"rb2101\", \"20200909\", \"3658\"])\n",
    "\n",
    "f.close()"
   ]
  },
  {
   "cell_type": "code",
   "execution_count": 13,
   "metadata": {},
   "outputs": [],
   "source": [
    "with open(\"test2.csv\",\"w\",newline=\"\") as f:\n",
    "    writer=csv.DictWriter(f, fieldnames=[\"symbol\", \"date\", \"close\"])\n",
    "    writer.writeheader()\n",
    "    data = [\n",
    "        {\n",
    "            \"symbol\":\"rb2101\",\n",
    "            \"date\":\"20200907\",\n",
    "            \"close\":\"3736\",\n",
    "        },\n",
    "        {\n",
    "            \"symbol\":\"rb2101\",\n",
    "            \"date\":\"20200908\",\n",
    "            \"close\":\"3719\",\n",
    "        },\n",
    "        {\n",
    "            \"symbol\":\"rb2101\",\n",
    "            \"date\":\"20200909\",\n",
    "            \"close\":\"3658\",\n",
    "        },\n",
    "    ]\n",
    "\n",
    "    for d in data:\n",
    "        writer.writerow(d)"
   ]
  },
  {
   "cell_type": "code",
   "execution_count": 15,
   "metadata": {},
   "outputs": [
    {
     "name": "stdout",
     "output_type": "stream",
     "text": [
      "OrderedDict([('symbol', 'rb2101'), ('date', '20200907'), ('close', '3736')])\n",
      "OrderedDict([('symbol', 'rb2101'), ('date', '20200908'), ('close', '3719')])\n",
      "OrderedDict([('symbol', 'rb2101'), ('date', '20200909'), ('close', '3658')])\n"
     ]
    }
   ],
   "source": [
    "with open(\"test2.csv\", \"r\") as f:\n",
    "    reader = csv.DictReader(f)\n",
    "    for row in reader:\n",
    "        print(row)"
   ]
  },
  {
   "cell_type": "code",
   "execution_count": 16,
   "metadata": {},
   "outputs": [
    {
     "name": "stdout",
     "output_type": "stream",
     "text": [
      "['symbol', 'date', 'close']\n",
      "['rb2101', '20200907', '3736']\n",
      "['rb2101', '20200908', '3719']\n",
      "['rb2101', '20200909', '3658']\n"
     ]
    }
   ],
   "source": [
    "with open(\"test2.csv\", \"r\") as f:\n",
    "    reader = csv.reader(f)\n",
    "    for row in reader:\n",
    "        print(row)"
   ]
  },
  {
   "cell_type": "code",
   "execution_count": 17,
   "metadata": {},
   "outputs": [
    {
     "name": "stdout",
     "output_type": "stream",
     "text": [
      "rb2101 20200907 3736\n",
      "rb2101 20200908 3719\n",
      "rb2101 20200909 3658\n"
     ]
    }
   ],
   "source": [
    "with open(\"test2.csv\", \"r\") as f:\n",
    "    reader = csv.DictReader(f)\n",
    "    for row in reader:\n",
    "        print(row[\"symbol\"], row[\"date\"], row[\"close\"])"
   ]
  }
 ],
 "metadata": {
  "interpreter": {
   "hash": "0d2af4708e901420ca316528daed9d207adf237f59982b81f6b4928a0eab77f9"
  },
  "kernelspec": {
   "display_name": "Python 3.7.1 64-bit (system)",
   "language": "python",
   "name": "python3"
  },
  "language_info": {
   "codemirror_mode": {
    "name": "ipython",
    "version": 3
   },
   "file_extension": ".py",
   "mimetype": "text/x-python",
   "name": "python",
   "nbconvert_exporter": "python",
   "pygments_lexer": "ipython3",
   "version": "3.7.1"
  },
  "orig_nbformat": 4
 },
 "nbformat": 4,
 "nbformat_minor": 2
}
