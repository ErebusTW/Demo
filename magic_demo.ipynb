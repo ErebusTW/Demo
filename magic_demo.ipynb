{
 "cells": [
  {
   "cell_type": "code",
   "execution_count": 14,
   "metadata": {},
   "outputs": [],
   "source": [
    "#成交信息打印\n",
    "class TradeData:\n",
    "    \n",
    "    def __init__(self):\n",
    "        self.symbol = \"\"\n",
    "        self.datetime = \"\"\n",
    "        self.direction = \"\"\n",
    "        self.price = 0.0\n",
    "        self.volume = 0.0\n",
    "\n",
    "    def calculate_trading_value(self, size):\n",
    "        \"\"\"計算成交金額的對象方法\"\"\"\n",
    "        value = self.price * self.volume * size\n",
    "        return value\n",
    "    \n",
    "    def to_str(self):\n",
    "        \"\"\"\"\"\"\n",
    "        text =f\"{self.datetime}: {self.direction}{self.symbol} {self.volume}手@{self.price}\"\n",
    "        return text\n",
    "\n",
    "    def __str__(self):\n",
    "        \"\"\"\"\"\"\n",
    "        return f\"魔法方法的威力{self.to_str()}\"\n",
    "        "
   ]
  },
  {
   "cell_type": "code",
   "execution_count": 15,
   "metadata": {},
   "outputs": [],
   "source": [
    "trade=TradeData()\n",
    "#字段賦值\n",
    "trade.symbol = \"IF2010\"\n",
    "trade.datetime = \"20200915 13:15:03\"\n",
    "trade.direction =\"買入\"\n",
    "trade.price = 4200\n",
    "trade.volume = 1"
   ]
  },
  {
   "cell_type": "code",
   "execution_count": 16,
   "metadata": {},
   "outputs": [
    {
     "name": "stdout",
     "output_type": "stream",
     "text": [
      "20200915 13:15:03: 買入IF2010 1手@4200\n"
     ]
    }
   ],
   "source": [
    "print(trade.to_str())"
   ]
  },
  {
   "cell_type": "code",
   "execution_count": 18,
   "metadata": {},
   "outputs": [
    {
     "data": {
      "text/plain": [
       "'魔法方法的威力20200915 13:15:03: 買入IF2010 1手@4200'"
      ]
     },
     "execution_count": 18,
     "metadata": {},
     "output_type": "execute_result"
    }
   ],
   "source": [
    "str(trade)"
   ]
  },
  {
   "cell_type": "code",
   "execution_count": 17,
   "metadata": {},
   "outputs": [
    {
     "name": "stdout",
     "output_type": "stream",
     "text": [
      "魔法方法的威力20200915 13:15:03: 買入IF2010 1手@4200\n"
     ]
    }
   ],
   "source": [
    "print(trade)"
   ]
  },
  {
   "cell_type": "markdown",
   "metadata": {},
   "source": [
    "常用的魔法方法\n",
    "基本:__init__,__str__,__call__\n",
    "屬性:__getattr__,__setattr__,__dir__\n",
    "計算:__add__,__sub__,__mul__\n",
    "容器:__len__,__getitem__,__setitem__"
   ]
  },
  {
   "cell_type": "code",
   "execution_count": 22,
   "metadata": {},
   "outputs": [],
   "source": [
    "class Test:\n",
    "    \n",
    "    def __call__(self,a,b):\n",
    "        return a+b"
   ]
  },
  {
   "cell_type": "code",
   "execution_count": 24,
   "metadata": {},
   "outputs": [],
   "source": [
    "t = Test()"
   ]
  },
  {
   "cell_type": "code",
   "execution_count": 25,
   "metadata": {},
   "outputs": [
    {
     "data": {
      "text/plain": [
       "7"
      ]
     },
     "execution_count": 25,
     "metadata": {},
     "output_type": "execute_result"
    }
   ],
   "source": [
    "t(3,4)"
   ]
  }
 ],
 "metadata": {
  "interpreter": {
   "hash": "0d2af4708e901420ca316528daed9d207adf237f59982b81f6b4928a0eab77f9"
  },
  "kernelspec": {
   "display_name": "Python 3.7.1 64-bit (system)",
   "language": "python",
   "name": "python3"
  },
  "language_info": {
   "codemirror_mode": {
    "name": "ipython",
    "version": 3
   },
   "file_extension": ".py",
   "mimetype": "text/x-python",
   "name": "python",
   "nbconvert_exporter": "python",
   "pygments_lexer": "ipython3",
   "version": "3.7.1"
  },
  "orig_nbformat": 4
 },
 "nbformat": 4,
 "nbformat_minor": 2
}
