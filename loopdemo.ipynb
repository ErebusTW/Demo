{
 "cells": [
  {
   "cell_type": "code",
   "execution_count": 2,
   "metadata": {},
   "outputs": [
    {
     "name": "stdout",
     "output_type": "stream",
     "text": [
      "5050\n"
     ]
    }
   ],
   "source": [
    "#數學求和1到100\n",
    "result = 0\n",
    "for i in range(1,101): #前包含後不包含\n",
    "    result += i\n",
    "print(result)"
   ]
  },
  {
   "cell_type": "code",
   "execution_count": 3,
   "metadata": {},
   "outputs": [
    {
     "data": {
      "text/plain": [
       "[1, 2, 3, 4, 5, 6, 7, 8, 9]"
      ]
     },
     "execution_count": 3,
     "metadata": {},
     "output_type": "execute_result"
    }
   ],
   "source": [
    "list(range(1,10))"
   ]
  },
  {
   "cell_type": "code",
   "execution_count": 24,
   "metadata": {},
   "outputs": [
    {
     "name": "stdout",
     "output_type": "stream",
     "text": [
      "6 11\n",
      "7 18\n",
      "8 26\n",
      "9 35\n",
      "10 45\n",
      "11 56\n",
      "12 68\n",
      "13 81\n",
      "14 95\n",
      "15 110\n",
      "16 126\n",
      "17 143\n",
      "18 161\n",
      "19 180\n",
      "20 200\n",
      "21 221\n",
      "22 243\n",
      "23 266\n",
      "24 290\n",
      "25 315\n",
      "26 341\n",
      "27 368\n",
      "28 396\n",
      "29 425\n",
      "30 455\n",
      "31 486\n",
      "32 518\n",
      "33 551\n",
      "34 585\n",
      "35 620\n",
      "36 656\n",
      "37 693\n",
      "38 731\n",
      "39 770\n",
      "40 810\n",
      "41 851\n",
      "42 893\n",
      "43 936\n",
      "44 980\n",
      "45 1025\n",
      "46 1071\n",
      "47 1118\n",
      "48 1166\n",
      "49 1215\n",
      "50 1265\n",
      "51 1316\n",
      "52 1368\n",
      "53 1421\n",
      "54 1475\n",
      "55 1530\n",
      "56 1586\n",
      "57 1643\n",
      "58 1701\n",
      "59 1760\n",
      "60 1820\n",
      "61 1881\n",
      "62 1943\n",
      "63 2006\n",
      "64 2070\n",
      "65 2135\n",
      "66 2201\n",
      "67 2268\n",
      "68 2336\n",
      "69 2405\n",
      "70 2475\n",
      "71 2546\n",
      "72 2618\n",
      "73 2691\n",
      "74 2765\n",
      "75 2840\n",
      "76 2916\n",
      "77 2993\n",
      "78 3071\n",
      "79 3150\n",
      "80 3230\n",
      "81 3311\n",
      "82 3393\n",
      "83 3476\n",
      "84 3560\n",
      "85 3645\n",
      "86 3731\n",
      "87 3818\n",
      "88 3906\n",
      "89 3995\n",
      "90 4085\n",
      "91 4176\n",
      "92 4268\n",
      "93 4361\n",
      "94 4455\n",
      "95 4550\n",
      "96 4646\n",
      "97 4743\n",
      "98 4841\n",
      "99 4940\n",
      "100 5040\n",
      "101 5141\n",
      "102 5243\n",
      "103 5346\n",
      "104 5450\n",
      "105 5555\n",
      "106 5661\n",
      "107 5768\n",
      "108 5876\n",
      "109 5985\n",
      "110 6095\n",
      "111 6206\n",
      "112 6318\n",
      "113 6431\n",
      "114 6545\n",
      "115 6660\n",
      "116 6776\n",
      "117 6893\n",
      "118 7011\n",
      "119 7130\n",
      "120 7250\n",
      "121 7371\n",
      "122 7493\n",
      "123 7616\n",
      "124 7740\n",
      "125 7865\n",
      "126 7991\n",
      "127 8118\n",
      "128 8246\n",
      "129 8375\n",
      "130 8505\n",
      "131 8636\n",
      "132 8768\n",
      "133 8901\n",
      "134 9035\n",
      "135 9170\n",
      "136 9306\n",
      "137 9443\n",
      "138 9581\n",
      "139 9720\n",
      "140 9860\n",
      "141 10001\n",
      "141\n"
     ]
    }
   ],
   "source": [
    " #5加到幾能超過10000\n",
    " result =5\n",
    " n=6\n",
    "\n",
    "while result <= 10000:\n",
    "    result += n\n",
    "    print(n,result)\n",
    "    if result <=10000:    \n",
    "        n += 1\n",
    "    else:\n",
    "        break\n",
    "\n",
    "print(n)\n"
   ]
  },
  {
   "cell_type": "code",
   "execution_count": 6,
   "metadata": {},
   "outputs": [
    {
     "name": "stdout",
     "output_type": "stream",
     "text": [
      "10001\n"
     ]
    }
   ],
   "source": [
    "result = 0\n",
    "for i in range(5,142):\n",
    "    result += i\n",
    "print(result)    "
   ]
  },
  {
   "cell_type": "code",
   "execution_count": 15,
   "metadata": {},
   "outputs": [
    {
     "name": "stdout",
     "output_type": "stream",
     "text": [
      "10001\n"
     ]
    }
   ],
   "source": [
    "a= list(range(5,142))\n",
    "b=0\n",
    "for i in range(137):\n",
    "    b=b+a[i]\n",
    "print(b)"
   ]
  },
  {
   "cell_type": "code",
   "execution_count": 21,
   "metadata": {},
   "outputs": [
    {
     "name": "stdout",
     "output_type": "stream",
     "text": [
      "2550\n"
     ]
    }
   ],
   "source": [
    "#continue中斷\n",
    "result =0\n",
    "for i in range(1,101):\n",
    "    #if i % 2 != 0:\n",
    "    if i % 2:\n",
    "        continue\n",
    "    result += i\n",
    "\n",
    "print(result)\n"
   ]
  },
  {
   "cell_type": "code",
   "execution_count": 23,
   "metadata": {},
   "outputs": [
    {
     "name": "stdout",
     "output_type": "stream",
     "text": [
      "141\n"
     ]
    }
   ],
   "source": [
    "#break中斷\n",
    "result =5\n",
    "n=6\n",
    "while True:\n",
    "    result += n\n",
    "    if result >= 10000:\n",
    "        break\n",
    "    n += 1\n",
    "print(n)\n",
    "    "
   ]
  },
  {
   "cell_type": "code",
   "execution_count": null,
   "metadata": {},
   "outputs": [],
   "source": [
    "#歷史數據回測\n",
    "history_data=[]\n",
    "for data in history_data:\n",
    "    mal=calculate_ma(data,5)\n",
    "    ma2=calculate_ma(data,20)\n",
    "    if ma1>ma2:\n",
    "        print(\"下一根K線持倉有多倉一手\")\n",
    "        record_position(data,1)\n",
    "    else:\n",
    "        print(\"下一根K限持有空倉一手\")\n",
    "        record_position(data,-1)"
   ]
  },
  {
   "cell_type": "code",
   "execution_count": null,
   "metadata": {},
   "outputs": [],
   "source": []
  }
 ],
 "metadata": {
  "interpreter": {
   "hash": "15c4318c046032dcddde86bc03bb9955fa496febeb28f3bfd3af976cdc8aaf27"
  },
  "kernelspec": {
   "display_name": "Python 3.7.6 64-bit ('base': conda)",
   "language": "python",
   "name": "python3"
  },
  "language_info": {
   "codemirror_mode": {
    "name": "ipython",
    "version": 3
   },
   "file_extension": ".py",
   "mimetype": "text/x-python",
   "name": "python",
   "nbconvert_exporter": "python",
   "pygments_lexer": "ipython3",
   "version": "3.7.6"
  },
  "orig_nbformat": 4
 },
 "nbformat": 4,
 "nbformat_minor": 2
}
