{
 "cells": [
  {
   "cell_type": "code",
   "execution_count": 14,
   "metadata": {},
   "outputs": [],
   "source": [
    "ma1 = 3000  #5日均線\n",
    "ma2 = 3100  #10日均線\n",
    "rsi_value = 60  #RSI指標"
   ]
  },
  {
   "cell_type": "code",
   "execution_count": 11,
   "metadata": {},
   "outputs": [
    {
     "name": "stdout",
     "output_type": "stream",
     "text": [
      "均線處於多頭趨勢\n"
     ]
    }
   ],
   "source": [
    "if ma1 > ma2: #布爾值\n",
    "    print(\"均線處於多頭趨勢\")"
   ]
  },
  {
   "cell_type": "code",
   "execution_count": 12,
   "metadata": {},
   "outputs": [
    {
     "data": {
      "text/plain": [
       "True"
      ]
     },
     "execution_count": 12,
     "metadata": {},
     "output_type": "execute_result"
    }
   ],
   "source": [
    "ma1>ma2"
   ]
  },
  {
   "cell_type": "code",
   "execution_count": 15,
   "metadata": {},
   "outputs": [],
   "source": [
    "#邏輯運算\n",
    "if ma1 > ma2 and rsi_value >50:\n",
    "    print(\"均線和RSI都處於多頭趨勢\")"
   ]
  },
  {
   "cell_type": "code",
   "execution_count": 16,
   "metadata": {},
   "outputs": [
    {
     "name": "stdout",
     "output_type": "stream",
     "text": [
      "有一個指標屬於多頭趨勢\n"
     ]
    }
   ],
   "source": [
    "if ma1 > ma2 or rsi_value >50:\n",
    "    print(\"有一個指標屬於多頭趨勢\")"
   ]
  },
  {
   "cell_type": "code",
   "execution_count": 18,
   "metadata": {},
   "outputs": [
    {
     "name": "stdout",
     "output_type": "stream",
     "text": [
      "均線處於空頭趨勢\n"
     ]
    }
   ],
   "source": [
    "if not ma1 > ma2:\n",
    "    print(\"均線處於空頭趨勢\")"
   ]
  },
  {
   "cell_type": "code",
   "execution_count": 22,
   "metadata": {},
   "outputs": [
    {
     "name": "stdout",
     "output_type": "stream",
     "text": [
      "True\n",
      "False\n",
      "False\n"
     ]
    }
   ],
   "source": [
    "print(True and True)\n",
    "print(True and False)\n",
    "print(False and False)"
   ]
  },
  {
   "cell_type": "code",
   "execution_count": 24,
   "metadata": {},
   "outputs": [
    {
     "name": "stdout",
     "output_type": "stream",
     "text": [
      "True\n",
      "True\n",
      "False\n"
     ]
    }
   ],
   "source": [
    "print(True or True)\n",
    "print(True or False)\n",
    "print(False or False)"
   ]
  },
  {
   "cell_type": "code",
   "execution_count": 27,
   "metadata": {},
   "outputs": [
    {
     "name": "stdout",
     "output_type": "stream",
     "text": [
      "False\n",
      "True\n"
     ]
    }
   ],
   "source": [
    "print(not True)\n",
    "print(not False)"
   ]
  },
  {
   "cell_type": "code",
   "execution_count": 32,
   "metadata": {},
   "outputs": [
    {
     "name": "stdout",
     "output_type": "stream",
     "text": [
      "均線處於空頭趨勢\n"
     ]
    }
   ],
   "source": [
    "if ma1 > ma2 and rsi_value >50:\n",
    "    print(\"均線和RSI都處於多頭趨勢\")\n",
    "else:\n",
    "    print(\"均線處於空頭趨勢\")"
   ]
  },
  {
   "cell_type": "code",
   "execution_count": 34,
   "metadata": {},
   "outputs": [
    {
     "name": "stdout",
     "output_type": "stream",
     "text": [
      "均線處於空頭趨勢\n"
     ]
    }
   ],
   "source": [
    "if ma1 > ma2 and rsi_value >50: #與上相同\n",
    "    print(\"均線和RSI都處於多頭趨勢\")\n",
    "if not ma1 > ma2:\n",
    "    print(\"均線處於空頭趨勢\")"
   ]
  },
  {
   "cell_type": "code",
   "execution_count": 38,
   "metadata": {},
   "outputs": [
    {
     "name": "stdout",
     "output_type": "stream",
     "text": [
      "RSI處於多頭趨勢\n"
     ]
    }
   ],
   "source": [
    "#嵌套判斷\n",
    "if rsi_value > 50:\n",
    "    if rsi_value >=70:\n",
    "        print(\"RSI進入超買區\")\n",
    "    else:\n",
    "        print(\"RSI處於多頭趨勢\")\n",
    "else:\n",
    "    if rsi_value <= 30:\n",
    "        print(\"RSI進入超賣區\")\n",
    "    else:\n",
    "        print(\"RSI處於空頭趨勢\")    "
   ]
  },
  {
   "cell_type": "code",
   "execution_count": 41,
   "metadata": {},
   "outputs": [
    {
     "name": "stdout",
     "output_type": "stream",
     "text": [
      "RSI處於多頭趨勢\n"
     ]
    }
   ],
   "source": [
    "if rsi_value >=70:\n",
    "    print(\"RSI進入超買區\")\n",
    "elif rsi_value >50:\n",
    "    print(\"RSI處於多頭趨勢\")\n",
    "elif rsi_value >30:\n",
    "    print(\"RSI處於空頭趨勢\")\n",
    "else:\n",
    "    print(\"RSI進入超賣區\")"
   ]
  },
  {
   "cell_type": "code",
   "execution_count": null,
   "metadata": {},
   "outputs": [],
   "source": []
  }
 ],
 "metadata": {
  "interpreter": {
   "hash": "15c4318c046032dcddde86bc03bb9955fa496febeb28f3bfd3af976cdc8aaf27"
  },
  "kernelspec": {
   "display_name": "Python 3.7.6 64-bit ('base': conda)",
   "language": "python",
   "name": "python3"
  },
  "language_info": {
   "codemirror_mode": {
    "name": "ipython",
    "version": 3
   },
   "file_extension": ".py",
   "mimetype": "text/x-python",
   "name": "python",
   "nbconvert_exporter": "python",
   "pygments_lexer": "ipython3",
   "version": "3.7.6"
  },
  "orig_nbformat": 4
 },
 "nbformat": 4,
 "nbformat_minor": 2
}
